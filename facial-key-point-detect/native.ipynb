{
 "cells": [
  {
   "cell_type": "code",
   "execution_count": 1,
   "id": "2162f770",
   "metadata": {
    "gradient": {
     "editing": false,
     "id": "ece8be93-1611-48d8-9e08-301581323faa",
     "kernelId": "933cfa17-22d4-4e5e-9a40-e8da1ac644c5"
    }
   },
   "outputs": [],
   "source": [
    "import torch\n",
    "import torch.nn as nn\n",
    "import torch.nn.functional as F\n",
    "import torchvision\n",
    "from torchvision import transforms, models, datasets\n",
    "from torch.utils.data import TensorDataset, DataLoader, Dataset\n",
    "from torchsummary import summary"
   ]
  },
  {
   "cell_type": "code",
   "execution_count": 2,
   "id": "ee97ab6a",
   "metadata": {
    "gradient": {
     "editing": false,
     "id": "fe5b92a0-230c-4166-9124-02532ff2c732",
     "kernelId": "933cfa17-22d4-4e5e-9a40-e8da1ac644c5"
    }
   },
   "outputs": [],
   "source": [
    "import numpy as np\n",
    "import pandas as pd\n",
    "import os\n",
    "import glob\n",
    "import cv2\n",
    "from tqdm import tqdm"
   ]
  },
  {
   "cell_type": "code",
   "execution_count": 3,
   "id": "d98b15d2",
   "metadata": {
    "gradient": {
     "editing": false,
     "id": "c4eab3d7-b1b2-4e5d-800d-fb3d81f227af",
     "kernelId": "933cfa17-22d4-4e5e-9a40-e8da1ac644c5"
    }
   },
   "outputs": [],
   "source": [
    "from copy import deepcopy\n",
    "from mpl_toolkits.mplot3d import Axes3D\n",
    "import matplotlib.pyplot as plt\n",
    "import matplotlib.ticker as mticker\n",
    "%matplotlib inline\n",
    "from sklearn import cluster\n",
    "from sklearn.model_selection import train_test_split"
   ]
  },
  {
   "cell_type": "code",
   "execution_count": 4,
   "id": "12042bca",
   "metadata": {
    "gradient": {
     "editing": false,
     "id": "8da28cca-63b4-42ee-881d-27957f7d69c3",
     "kernelId": "933cfa17-22d4-4e5e-9a40-e8da1ac644c5"
    }
   },
   "outputs": [],
   "source": [
    "device = 'cuda' if torch.cuda.is_available() else 'cpu'"
   ]
  },
  {
   "cell_type": "code",
   "execution_count": 5,
   "id": "27aacb35",
   "metadata": {
    "gradient": {
     "editing": false,
     "id": "07119668-9e05-452a-9fb7-a8887eb14e7f",
     "kernelId": "933cfa17-22d4-4e5e-9a40-e8da1ac644c5"
    }
   },
   "outputs": [
    {
     "name": "stdout",
     "output_type": "stream",
     "text": [
      "fatal: destination path 'P1_Facial_Keypoints' already exists and is not an empty directory.\n"
     ]
    }
   ],
   "source": [
    "!git clone https://github.com/udacity/P1_Facial_Keypoints.git"
   ]
  },
  {
   "cell_type": "code",
   "execution_count": 6,
   "id": "4f070269",
   "metadata": {
    "gradient": {
     "editing": false,
     "id": "3f388ab4-e401-49f4-adaa-d0091e6614be",
     "kernelId": "933cfa17-22d4-4e5e-9a40-e8da1ac644c5"
    }
   },
   "outputs": [],
   "source": [
    "root_dir = 'P1_Facial_Keypoints/data/training/'"
   ]
  },
  {
   "cell_type": "code",
   "execution_count": 7,
   "id": "182d1158",
   "metadata": {
    "gradient": {
     "editing": false,
     "id": "1772dbe9-b6be-440f-868d-57d64dba7c27",
     "kernelId": "933cfa17-22d4-4e5e-9a40-e8da1ac644c5"
    }
   },
   "outputs": [],
   "source": [
    "all_img_paths=glob.glob(os.path.join(root_dir, '*.jpg'))"
   ]
  },
  {
   "cell_type": "code",
   "execution_count": 8,
   "id": "33238d1a",
   "metadata": {
    "gradient": {
     "editing": false,
     "id": "5a29f8cd-307e-43bb-8e31-f4dd2898532d",
     "kernelId": "933cfa17-22d4-4e5e-9a40-e8da1ac644c5"
    }
   },
   "outputs": [],
   "source": [
    "data = pd.read_csv('P1_Facial_Keypoints/data/training_frames_keypoints.csv')"
   ]
  },
  {
   "cell_type": "code",
   "execution_count": 9,
   "id": "0c568fbc",
   "metadata": {
    "gradient": {
     "editing": false,
     "id": "b5a2ad79-19ed-4943-aae7-49f8dae29910",
     "kernelId": "933cfa17-22d4-4e5e-9a40-e8da1ac644c5"
    }
   },
   "outputs": [
    {
     "data": {
      "text/html": [
       "<div>\n",
       "<style scoped>\n",
       "    .dataframe tbody tr th:only-of-type {\n",
       "        vertical-align: middle;\n",
       "    }\n",
       "\n",
       "    .dataframe tbody tr th {\n",
       "        vertical-align: top;\n",
       "    }\n",
       "\n",
       "    .dataframe thead th {\n",
       "        text-align: right;\n",
       "    }\n",
       "</style>\n",
       "<table border=\"1\" class=\"dataframe\">\n",
       "  <thead>\n",
       "    <tr style=\"text-align: right;\">\n",
       "      <th></th>\n",
       "      <th>Unnamed: 0</th>\n",
       "      <th>0</th>\n",
       "      <th>1</th>\n",
       "      <th>2</th>\n",
       "      <th>3</th>\n",
       "      <th>4</th>\n",
       "      <th>5</th>\n",
       "      <th>6</th>\n",
       "      <th>7</th>\n",
       "      <th>8</th>\n",
       "      <th>...</th>\n",
       "      <th>126</th>\n",
       "      <th>127</th>\n",
       "      <th>128</th>\n",
       "      <th>129</th>\n",
       "      <th>130</th>\n",
       "      <th>131</th>\n",
       "      <th>132</th>\n",
       "      <th>133</th>\n",
       "      <th>134</th>\n",
       "      <th>135</th>\n",
       "    </tr>\n",
       "  </thead>\n",
       "  <tbody>\n",
       "    <tr>\n",
       "      <th>0</th>\n",
       "      <td>Luis_Fonsi_21.jpg</td>\n",
       "      <td>45.0</td>\n",
       "      <td>98.0</td>\n",
       "      <td>47.0</td>\n",
       "      <td>106.0</td>\n",
       "      <td>49.0</td>\n",
       "      <td>110.0</td>\n",
       "      <td>53.0</td>\n",
       "      <td>119.0</td>\n",
       "      <td>56.0</td>\n",
       "      <td>...</td>\n",
       "      <td>83.0</td>\n",
       "      <td>119.0</td>\n",
       "      <td>90.0</td>\n",
       "      <td>117.0</td>\n",
       "      <td>83.0</td>\n",
       "      <td>119.0</td>\n",
       "      <td>81.0</td>\n",
       "      <td>122.0</td>\n",
       "      <td>77.0</td>\n",
       "      <td>122.0</td>\n",
       "    </tr>\n",
       "    <tr>\n",
       "      <th>1</th>\n",
       "      <td>Lincoln_Chafee_52.jpg</td>\n",
       "      <td>41.0</td>\n",
       "      <td>83.0</td>\n",
       "      <td>43.0</td>\n",
       "      <td>91.0</td>\n",
       "      <td>45.0</td>\n",
       "      <td>100.0</td>\n",
       "      <td>47.0</td>\n",
       "      <td>108.0</td>\n",
       "      <td>51.0</td>\n",
       "      <td>...</td>\n",
       "      <td>85.0</td>\n",
       "      <td>122.0</td>\n",
       "      <td>94.0</td>\n",
       "      <td>120.0</td>\n",
       "      <td>85.0</td>\n",
       "      <td>122.0</td>\n",
       "      <td>83.0</td>\n",
       "      <td>122.0</td>\n",
       "      <td>79.0</td>\n",
       "      <td>122.0</td>\n",
       "    </tr>\n",
       "    <tr>\n",
       "      <th>2</th>\n",
       "      <td>Valerie_Harper_30.jpg</td>\n",
       "      <td>56.0</td>\n",
       "      <td>69.0</td>\n",
       "      <td>56.0</td>\n",
       "      <td>77.0</td>\n",
       "      <td>56.0</td>\n",
       "      <td>86.0</td>\n",
       "      <td>56.0</td>\n",
       "      <td>94.0</td>\n",
       "      <td>58.0</td>\n",
       "      <td>...</td>\n",
       "      <td>79.0</td>\n",
       "      <td>105.0</td>\n",
       "      <td>86.0</td>\n",
       "      <td>108.0</td>\n",
       "      <td>77.0</td>\n",
       "      <td>105.0</td>\n",
       "      <td>75.0</td>\n",
       "      <td>105.0</td>\n",
       "      <td>73.0</td>\n",
       "      <td>105.0</td>\n",
       "    </tr>\n",
       "    <tr>\n",
       "      <th>3</th>\n",
       "      <td>Angelo_Reyes_22.jpg</td>\n",
       "      <td>61.0</td>\n",
       "      <td>80.0</td>\n",
       "      <td>58.0</td>\n",
       "      <td>95.0</td>\n",
       "      <td>58.0</td>\n",
       "      <td>108.0</td>\n",
       "      <td>58.0</td>\n",
       "      <td>120.0</td>\n",
       "      <td>58.0</td>\n",
       "      <td>...</td>\n",
       "      <td>98.0</td>\n",
       "      <td>136.0</td>\n",
       "      <td>107.0</td>\n",
       "      <td>139.0</td>\n",
       "      <td>95.0</td>\n",
       "      <td>139.0</td>\n",
       "      <td>91.0</td>\n",
       "      <td>139.0</td>\n",
       "      <td>85.0</td>\n",
       "      <td>136.0</td>\n",
       "    </tr>\n",
       "    <tr>\n",
       "      <th>4</th>\n",
       "      <td>Kristen_Breitweiser_11.jpg</td>\n",
       "      <td>58.0</td>\n",
       "      <td>94.0</td>\n",
       "      <td>58.0</td>\n",
       "      <td>104.0</td>\n",
       "      <td>60.0</td>\n",
       "      <td>113.0</td>\n",
       "      <td>62.0</td>\n",
       "      <td>121.0</td>\n",
       "      <td>67.0</td>\n",
       "      <td>...</td>\n",
       "      <td>92.0</td>\n",
       "      <td>117.0</td>\n",
       "      <td>103.0</td>\n",
       "      <td>118.0</td>\n",
       "      <td>92.0</td>\n",
       "      <td>120.0</td>\n",
       "      <td>88.0</td>\n",
       "      <td>122.0</td>\n",
       "      <td>84.0</td>\n",
       "      <td>122.0</td>\n",
       "    </tr>\n",
       "    <tr>\n",
       "      <th>...</th>\n",
       "      <td>...</td>\n",
       "      <td>...</td>\n",
       "      <td>...</td>\n",
       "      <td>...</td>\n",
       "      <td>...</td>\n",
       "      <td>...</td>\n",
       "      <td>...</td>\n",
       "      <td>...</td>\n",
       "      <td>...</td>\n",
       "      <td>...</td>\n",
       "      <td>...</td>\n",
       "      <td>...</td>\n",
       "      <td>...</td>\n",
       "      <td>...</td>\n",
       "      <td>...</td>\n",
       "      <td>...</td>\n",
       "      <td>...</td>\n",
       "      <td>...</td>\n",
       "      <td>...</td>\n",
       "      <td>...</td>\n",
       "      <td>...</td>\n",
       "    </tr>\n",
       "    <tr>\n",
       "      <th>3457</th>\n",
       "      <td>Thomas_Ferguson_02.jpg</td>\n",
       "      <td>35.0</td>\n",
       "      <td>94.0</td>\n",
       "      <td>35.0</td>\n",
       "      <td>105.0</td>\n",
       "      <td>38.0</td>\n",
       "      <td>112.0</td>\n",
       "      <td>40.0</td>\n",
       "      <td>123.0</td>\n",
       "      <td>46.0</td>\n",
       "      <td>...</td>\n",
       "      <td>71.0</td>\n",
       "      <td>123.0</td>\n",
       "      <td>79.0</td>\n",
       "      <td>121.0</td>\n",
       "      <td>71.0</td>\n",
       "      <td>123.0</td>\n",
       "      <td>66.0</td>\n",
       "      <td>126.0</td>\n",
       "      <td>64.0</td>\n",
       "      <td>126.0</td>\n",
       "    </tr>\n",
       "    <tr>\n",
       "      <th>3458</th>\n",
       "      <td>Valerie_Harper_00.jpg</td>\n",
       "      <td>72.0</td>\n",
       "      <td>133.0</td>\n",
       "      <td>76.0</td>\n",
       "      <td>147.0</td>\n",
       "      <td>80.0</td>\n",
       "      <td>159.0</td>\n",
       "      <td>87.0</td>\n",
       "      <td>170.0</td>\n",
       "      <td>91.0</td>\n",
       "      <td>...</td>\n",
       "      <td>120.0</td>\n",
       "      <td>156.0</td>\n",
       "      <td>135.0</td>\n",
       "      <td>159.0</td>\n",
       "      <td>124.0</td>\n",
       "      <td>163.0</td>\n",
       "      <td>117.0</td>\n",
       "      <td>167.0</td>\n",
       "      <td>113.0</td>\n",
       "      <td>166.0</td>\n",
       "    </tr>\n",
       "    <tr>\n",
       "      <th>3459</th>\n",
       "      <td>Maggie_Smith_00.jpg</td>\n",
       "      <td>52.0</td>\n",
       "      <td>149.0</td>\n",
       "      <td>56.0</td>\n",
       "      <td>160.0</td>\n",
       "      <td>63.0</td>\n",
       "      <td>168.0</td>\n",
       "      <td>71.0</td>\n",
       "      <td>179.0</td>\n",
       "      <td>78.0</td>\n",
       "      <td>...</td>\n",
       "      <td>122.0</td>\n",
       "      <td>169.0</td>\n",
       "      <td>133.0</td>\n",
       "      <td>169.0</td>\n",
       "      <td>122.0</td>\n",
       "      <td>172.0</td>\n",
       "      <td>115.0</td>\n",
       "      <td>172.0</td>\n",
       "      <td>111.0</td>\n",
       "      <td>172.0</td>\n",
       "    </tr>\n",
       "    <tr>\n",
       "      <th>3460</th>\n",
       "      <td>Erin_Hershey_Presley_41.jpg</td>\n",
       "      <td>82.0</td>\n",
       "      <td>91.0</td>\n",
       "      <td>82.0</td>\n",
       "      <td>105.0</td>\n",
       "      <td>82.0</td>\n",
       "      <td>116.0</td>\n",
       "      <td>86.0</td>\n",
       "      <td>128.0</td>\n",
       "      <td>90.0</td>\n",
       "      <td>...</td>\n",
       "      <td>119.0</td>\n",
       "      <td>132.0</td>\n",
       "      <td>134.0</td>\n",
       "      <td>136.0</td>\n",
       "      <td>119.0</td>\n",
       "      <td>139.0</td>\n",
       "      <td>112.0</td>\n",
       "      <td>139.0</td>\n",
       "      <td>108.0</td>\n",
       "      <td>139.0</td>\n",
       "    </tr>\n",
       "    <tr>\n",
       "      <th>3461</th>\n",
       "      <td>Rocco_Buttiglione_42.jpg</td>\n",
       "      <td>93.0</td>\n",
       "      <td>134.0</td>\n",
       "      <td>93.0</td>\n",
       "      <td>147.0</td>\n",
       "      <td>95.0</td>\n",
       "      <td>157.0</td>\n",
       "      <td>100.0</td>\n",
       "      <td>167.0</td>\n",
       "      <td>105.0</td>\n",
       "      <td>...</td>\n",
       "      <td>167.0</td>\n",
       "      <td>174.0</td>\n",
       "      <td>167.0</td>\n",
       "      <td>168.0</td>\n",
       "      <td>167.0</td>\n",
       "      <td>174.0</td>\n",
       "      <td>164.0</td>\n",
       "      <td>173.0</td>\n",
       "      <td>159.0</td>\n",
       "      <td>173.0</td>\n",
       "    </tr>\n",
       "  </tbody>\n",
       "</table>\n",
       "<p>3462 rows × 137 columns</p>\n",
       "</div>"
      ],
      "text/plain": [
       "                       Unnamed: 0     0      1     2      3     4      5  \\\n",
       "0               Luis_Fonsi_21.jpg  45.0   98.0  47.0  106.0  49.0  110.0   \n",
       "1           Lincoln_Chafee_52.jpg  41.0   83.0  43.0   91.0  45.0  100.0   \n",
       "2           Valerie_Harper_30.jpg  56.0   69.0  56.0   77.0  56.0   86.0   \n",
       "3             Angelo_Reyes_22.jpg  61.0   80.0  58.0   95.0  58.0  108.0   \n",
       "4      Kristen_Breitweiser_11.jpg  58.0   94.0  58.0  104.0  60.0  113.0   \n",
       "...                           ...   ...    ...   ...    ...   ...    ...   \n",
       "3457       Thomas_Ferguson_02.jpg  35.0   94.0  35.0  105.0  38.0  112.0   \n",
       "3458        Valerie_Harper_00.jpg  72.0  133.0  76.0  147.0  80.0  159.0   \n",
       "3459          Maggie_Smith_00.jpg  52.0  149.0  56.0  160.0  63.0  168.0   \n",
       "3460  Erin_Hershey_Presley_41.jpg  82.0   91.0  82.0  105.0  82.0  116.0   \n",
       "3461     Rocco_Buttiglione_42.jpg  93.0  134.0  93.0  147.0  95.0  157.0   \n",
       "\n",
       "          6      7      8  ...    126    127    128    129    130    131  \\\n",
       "0      53.0  119.0   56.0  ...   83.0  119.0   90.0  117.0   83.0  119.0   \n",
       "1      47.0  108.0   51.0  ...   85.0  122.0   94.0  120.0   85.0  122.0   \n",
       "2      56.0   94.0   58.0  ...   79.0  105.0   86.0  108.0   77.0  105.0   \n",
       "3      58.0  120.0   58.0  ...   98.0  136.0  107.0  139.0   95.0  139.0   \n",
       "4      62.0  121.0   67.0  ...   92.0  117.0  103.0  118.0   92.0  120.0   \n",
       "...     ...    ...    ...  ...    ...    ...    ...    ...    ...    ...   \n",
       "3457   40.0  123.0   46.0  ...   71.0  123.0   79.0  121.0   71.0  123.0   \n",
       "3458   87.0  170.0   91.0  ...  120.0  156.0  135.0  159.0  124.0  163.0   \n",
       "3459   71.0  179.0   78.0  ...  122.0  169.0  133.0  169.0  122.0  172.0   \n",
       "3460   86.0  128.0   90.0  ...  119.0  132.0  134.0  136.0  119.0  139.0   \n",
       "3461  100.0  167.0  105.0  ...  167.0  174.0  167.0  168.0  167.0  174.0   \n",
       "\n",
       "        132    133    134    135  \n",
       "0      81.0  122.0   77.0  122.0  \n",
       "1      83.0  122.0   79.0  122.0  \n",
       "2      75.0  105.0   73.0  105.0  \n",
       "3      91.0  139.0   85.0  136.0  \n",
       "4      88.0  122.0   84.0  122.0  \n",
       "...     ...    ...    ...    ...  \n",
       "3457   66.0  126.0   64.0  126.0  \n",
       "3458  117.0  167.0  113.0  166.0  \n",
       "3459  115.0  172.0  111.0  172.0  \n",
       "3460  112.0  139.0  108.0  139.0  \n",
       "3461  164.0  173.0  159.0  173.0  \n",
       "\n",
       "[3462 rows x 137 columns]"
      ]
     },
     "execution_count": 9,
     "metadata": {},
     "output_type": "execute_result"
    }
   ],
   "source": [
    "data"
   ]
  },
  {
   "cell_type": "code",
   "execution_count": 10,
   "id": "89964cbb",
   "metadata": {
    "gradient": {
     "editing": false,
     "id": "414a9845-cfa6-403e-8c77-1ce103281113",
     "kernelId": "933cfa17-22d4-4e5e-9a40-e8da1ac644c5"
    }
   },
   "outputs": [],
   "source": [
    "class FacesData(Dataset):\n",
    "    def __init__(self, df):\n",
    "        self.df = df\n",
    "        self.normalize = transforms.Normalize(\n",
    "            mean=[0.485, 0.456, 0.406],\n",
    "            std=[0.229, 0.244, 0.255]\n",
    "        )\n",
    "    \n",
    "    def __len__(self): return len(self.df)\n",
    "\n",
    "    def __getitem__(self, ix):\n",
    "        img_path = root_dir + self.df.iloc[ix,0]\n",
    "        img = cv2.imread(img_path)/255.\n",
    "        kp = deepcopy(self.df.iloc[ix,1:].tolist())\n",
    "        kp_x = (np.array(kp[0::2])/img.shape[1]).tolist()\n",
    "        kp_y = (np.array(kp[1::2])/img.shape[0]).tolist()\n",
    "        kp2 = kp_x + kp_y\n",
    "        kp2 = torch.tensor(kp2)\n",
    "        img = self.preprocess_input(img)\n",
    "        return img, kp2\n",
    "    \n",
    "    def preprocess_input(self, img):\n",
    "        img = cv2.resize(img, (244,244))\n",
    "        img = torch.tensor(img).permute(2,0,1)\n",
    "        img = self.normalize(img).float()\n",
    "        return img.to(device)\n",
    "    \n",
    "    def load_img(self, ix):\n",
    "        img_path = root_dir + self.df.iloc[ix,0]\n",
    "        img = cv2.imread(img_path)\n",
    "        img = cv2.cvtColor(img, cv2.COLOR_BGR2RGB)/255.\n",
    "        img = cv2.resize(img, (224, 224))\n",
    "        return img"
   ]
  },
  {
   "cell_type": "code",
   "execution_count": 24,
   "id": "4107e1b4",
   "metadata": {
    "gradient": {
     "editing": false,
     "id": "cbecb305-35e9-4b87-b356-07763c6dbc49",
     "kernelId": "933cfa17-22d4-4e5e-9a40-e8da1ac644c5"
    }
   },
   "outputs": [],
   "source": [
    "train, test = train_test_split(data, test_size=0.2, random_state=101)\n",
    "train_dataset = FacesData(train.reset_index(drop=True))\n",
    "test_dataset = FacesData(test.reset_index(drop=True))\n",
    "\n",
    "train_loader = DataLoader(train_dataset, batch_size=64)\n",
    "test_loader = DataLoader(test_dataset, batch_size=64)"
   ]
  },
  {
   "cell_type": "code",
   "execution_count": 25,
   "id": "be79a5d3",
   "metadata": {
    "gradient": {
     "editing": false,
     "id": "56af3975-9963-4afa-97a1-87a6121ba758",
     "kernelId": "933cfa17-22d4-4e5e-9a40-e8da1ac644c5"
    }
   },
   "outputs": [],
   "source": [
    "def get_model():\n",
    "    model = models.vgg16(pretrained=True)\n",
    "    for param in model.parameters():\n",
    "        param.requires_grad = False\n",
    "    \n",
    "    model.avgpool = nn.Sequential(\n",
    "        nn.Conv2d(512, 512, 3),\n",
    "        nn.MaxPool2d(2),\n",
    "        nn.Flatten()\n",
    "    )\n",
    "    \n",
    "    model.classifier = nn.Sequential(\n",
    "        nn.Linear(2048, 512),\n",
    "        nn.ReLU(),\n",
    "        nn.Dropout(0.5),\n",
    "        nn.Linear(512, 136),\n",
    "        nn.Sigmoid()\n",
    "    )\n",
    "    \n",
    "    criterion = nn.L1Loss()\n",
    "    optimizer = torch.optim.Adam(model.parameters(), lr=1e-4)\n",
    "    return model.to(device), criterion, optimizer"
   ]
  },
  {
   "cell_type": "code",
   "execution_count": 26,
   "id": "004eb945",
   "metadata": {
    "gradient": {
     "editing": false,
     "id": "0e4c0612-e431-4ef1-a782-751145c060bf",
     "kernelId": "933cfa17-22d4-4e5e-9a40-e8da1ac644c5"
    }
   },
   "outputs": [],
   "source": [
    "model, criterion, optimizer = get_model()"
   ]
  },
  {
   "cell_type": "code",
   "execution_count": 27,
   "id": "e58c3649",
   "metadata": {
    "gradient": {
     "editing": false,
     "id": "2701d313-8afb-40d4-924f-99774616ef89",
     "kernelId": "933cfa17-22d4-4e5e-9a40-e8da1ac644c5"
    }
   },
   "outputs": [],
   "source": [
    "def train_batch(img, kps, model, optimizer, criterion):\n",
    "    model.train()\n",
    "    optimizer.zero_grad()\n",
    "    _kps = model(img.to(device))\n",
    "    loss = criterion(_kps, kps.to(device))\n",
    "    loss.backward()\n",
    "    optimizer.step()\n",
    "    return loss"
   ]
  },
  {
   "cell_type": "code",
   "execution_count": 28,
   "id": "86f7f5ba",
   "metadata": {
    "gradient": {
     "editing": false,
     "id": "e14cbf23-ba37-4483-993a-0ffe01062300",
     "kernelId": "933cfa17-22d4-4e5e-9a40-e8da1ac644c5"
    }
   },
   "outputs": [],
   "source": [
    "def validate_batch(img, kps, model, criterion):\n",
    "    model.eval()\n",
    "    with torch.no_grad():\n",
    "        _kps = model(img.to(device))\n",
    "    loss = criterion(_kps, kps.to(device))\n",
    "    return _kps, loss"
   ]
  },
  {
   "cell_type": "code",
   "execution_count": 29,
   "id": "8b2b9471",
   "metadata": {
    "gradient": {
     "editing": false,
     "id": "18de71d9-881f-4442-a625-2f4051ee467f",
     "kernelId": "933cfa17-22d4-4e5e-9a40-e8da1ac644c5"
    }
   },
   "outputs": [],
   "source": [
    "train_loss, test_loss = [], []\n",
    "n_epochs = 50"
   ]
  },
  {
   "cell_type": "code",
   "execution_count": 30,
   "id": "449c6b5c",
   "metadata": {
    "gradient": {
     "editing": false,
     "id": "21cc7854-d1f5-4ea9-a563-c3f709e22e9a",
     "kernelId": "933cfa17-22d4-4e5e-9a40-e8da1ac644c5"
    }
   },
   "outputs": [
    {
     "name": "stderr",
     "output_type": "stream",
     "text": [
      "  0%|          | 0/50 [00:00<?, ?it/s]"
     ]
    },
    {
     "name": "stdout",
     "output_type": "stream",
     "text": [
      "epoch 1 : 50\n"
     ]
    },
    {
     "name": "stderr",
     "output_type": "stream",
     "text": [
      "  2%|▏         | 1/50 [00:46<38:18, 46.90s/it]"
     ]
    },
    {
     "name": "stdout",
     "output_type": "stream",
     "text": [
      "epoch 2 : 50\n"
     ]
    },
    {
     "name": "stderr",
     "output_type": "stream",
     "text": [
      "  4%|▍         | 2/50 [01:29<35:37, 44.53s/it]"
     ]
    },
    {
     "name": "stdout",
     "output_type": "stream",
     "text": [
      "epoch 3 : 50\n"
     ]
    },
    {
     "name": "stderr",
     "output_type": "stream",
     "text": [
      "  6%|▌         | 3/50 [02:16<35:33, 45.39s/it]"
     ]
    },
    {
     "name": "stdout",
     "output_type": "stream",
     "text": [
      "epoch 4 : 50\n"
     ]
    },
    {
     "name": "stderr",
     "output_type": "stream",
     "text": [
      "  8%|▊         | 4/50 [03:03<35:20, 46.10s/it]"
     ]
    },
    {
     "name": "stdout",
     "output_type": "stream",
     "text": [
      "epoch 5 : 50\n"
     ]
    },
    {
     "name": "stderr",
     "output_type": "stream",
     "text": [
      " 10%|█         | 5/50 [03:47<34:00, 45.35s/it]"
     ]
    },
    {
     "name": "stdout",
     "output_type": "stream",
     "text": [
      "epoch 6 : 50\n"
     ]
    },
    {
     "name": "stderr",
     "output_type": "stream",
     "text": [
      " 12%|█▏        | 6/50 [04:29<32:32, 44.38s/it]"
     ]
    },
    {
     "name": "stdout",
     "output_type": "stream",
     "text": [
      "epoch 7 : 50\n"
     ]
    },
    {
     "name": "stderr",
     "output_type": "stream",
     "text": [
      " 14%|█▍        | 7/50 [05:12<31:18, 43.67s/it]"
     ]
    },
    {
     "name": "stdout",
     "output_type": "stream",
     "text": [
      "epoch 8 : 50\n"
     ]
    },
    {
     "name": "stderr",
     "output_type": "stream",
     "text": [
      " 16%|█▌        | 8/50 [05:55<30:32, 43.62s/it]"
     ]
    },
    {
     "name": "stdout",
     "output_type": "stream",
     "text": [
      "epoch 9 : 50\n"
     ]
    },
    {
     "name": "stderr",
     "output_type": "stream",
     "text": [
      " 18%|█▊        | 9/50 [06:41<30:18, 44.35s/it]"
     ]
    },
    {
     "name": "stdout",
     "output_type": "stream",
     "text": [
      "epoch 10 : 50\n"
     ]
    },
    {
     "name": "stderr",
     "output_type": "stream",
     "text": [
      " 20%|██        | 10/50 [07:27<29:48, 44.72s/it]"
     ]
    },
    {
     "name": "stdout",
     "output_type": "stream",
     "text": [
      "epoch 11 : 50\n"
     ]
    },
    {
     "name": "stderr",
     "output_type": "stream",
     "text": [
      " 22%|██▏       | 11/50 [08:15<29:52, 45.95s/it]"
     ]
    },
    {
     "name": "stdout",
     "output_type": "stream",
     "text": [
      "epoch 12 : 50\n"
     ]
    },
    {
     "name": "stderr",
     "output_type": "stream",
     "text": [
      " 24%|██▍       | 12/50 [08:57<28:12, 44.55s/it]"
     ]
    },
    {
     "name": "stdout",
     "output_type": "stream",
     "text": [
      "epoch 13 : 50\n"
     ]
    },
    {
     "name": "stderr",
     "output_type": "stream",
     "text": [
      " 26%|██▌       | 13/50 [09:37<26:42, 43.31s/it]"
     ]
    },
    {
     "name": "stdout",
     "output_type": "stream",
     "text": [
      "epoch 14 : 50\n"
     ]
    },
    {
     "name": "stderr",
     "output_type": "stream",
     "text": [
      " 28%|██▊       | 14/50 [10:19<25:43, 42.87s/it]"
     ]
    },
    {
     "name": "stdout",
     "output_type": "stream",
     "text": [
      "epoch 15 : 50\n"
     ]
    },
    {
     "name": "stderr",
     "output_type": "stream",
     "text": [
      " 30%|███       | 15/50 [11:01<24:48, 42.54s/it]"
     ]
    },
    {
     "name": "stdout",
     "output_type": "stream",
     "text": [
      "epoch 16 : 50\n"
     ]
    },
    {
     "name": "stderr",
     "output_type": "stream",
     "text": [
      " 32%|███▏      | 16/50 [11:43<24:03, 42.46s/it]"
     ]
    },
    {
     "name": "stdout",
     "output_type": "stream",
     "text": [
      "epoch 17 : 50\n"
     ]
    },
    {
     "name": "stderr",
     "output_type": "stream",
     "text": [
      " 34%|███▍      | 17/50 [12:29<23:58, 43.59s/it]"
     ]
    },
    {
     "name": "stdout",
     "output_type": "stream",
     "text": [
      "epoch 18 : 50\n"
     ]
    },
    {
     "name": "stderr",
     "output_type": "stream",
     "text": [
      " 36%|███▌      | 18/50 [13:12<23:04, 43.26s/it]"
     ]
    },
    {
     "name": "stdout",
     "output_type": "stream",
     "text": [
      "epoch 19 : 50\n"
     ]
    },
    {
     "name": "stderr",
     "output_type": "stream",
     "text": [
      " 38%|███▊      | 19/50 [13:56<22:26, 43.42s/it]"
     ]
    },
    {
     "name": "stdout",
     "output_type": "stream",
     "text": [
      "epoch 20 : 50\n"
     ]
    },
    {
     "name": "stderr",
     "output_type": "stream",
     "text": [
      " 40%|████      | 20/50 [14:37<21:26, 42.88s/it]"
     ]
    },
    {
     "name": "stdout",
     "output_type": "stream",
     "text": [
      "epoch 21 : 50\n"
     ]
    },
    {
     "name": "stderr",
     "output_type": "stream",
     "text": [
      " 42%|████▏     | 21/50 [15:19<20:33, 42.52s/it]"
     ]
    },
    {
     "name": "stdout",
     "output_type": "stream",
     "text": [
      "epoch 22 : 50\n"
     ]
    },
    {
     "name": "stderr",
     "output_type": "stream",
     "text": [
      " 44%|████▍     | 22/50 [16:02<19:52, 42.59s/it]"
     ]
    },
    {
     "name": "stdout",
     "output_type": "stream",
     "text": [
      "epoch 23 : 50\n"
     ]
    },
    {
     "name": "stderr",
     "output_type": "stream",
     "text": [
      " 46%|████▌     | 23/50 [16:44<19:10, 42.61s/it]"
     ]
    },
    {
     "name": "stdout",
     "output_type": "stream",
     "text": [
      "epoch 24 : 50\n"
     ]
    },
    {
     "name": "stderr",
     "output_type": "stream",
     "text": [
      " 48%|████▊     | 24/50 [17:28<18:36, 42.93s/it]"
     ]
    },
    {
     "name": "stdout",
     "output_type": "stream",
     "text": [
      "epoch 25 : 50\n"
     ]
    },
    {
     "name": "stderr",
     "output_type": "stream",
     "text": [
      " 50%|█████     | 25/50 [18:12<17:58, 43.14s/it]"
     ]
    },
    {
     "name": "stdout",
     "output_type": "stream",
     "text": [
      "epoch 26 : 50\n"
     ]
    },
    {
     "name": "stderr",
     "output_type": "stream",
     "text": [
      " 52%|█████▏    | 26/50 [18:57<17:29, 43.73s/it]"
     ]
    },
    {
     "name": "stdout",
     "output_type": "stream",
     "text": [
      "epoch 27 : 50\n"
     ]
    },
    {
     "name": "stderr",
     "output_type": "stream",
     "text": [
      " 54%|█████▍    | 27/50 [19:43<17:00, 44.39s/it]"
     ]
    },
    {
     "name": "stdout",
     "output_type": "stream",
     "text": [
      "epoch 28 : 50\n"
     ]
    },
    {
     "name": "stderr",
     "output_type": "stream",
     "text": [
      " 56%|█████▌    | 28/50 [20:26<16:11, 44.17s/it]"
     ]
    },
    {
     "name": "stdout",
     "output_type": "stream",
     "text": [
      "epoch 29 : 50\n"
     ]
    },
    {
     "name": "stderr",
     "output_type": "stream",
     "text": [
      " 58%|█████▊    | 29/50 [21:08<15:12, 43.48s/it]"
     ]
    },
    {
     "name": "stdout",
     "output_type": "stream",
     "text": [
      "epoch 30 : 50\n"
     ]
    },
    {
     "name": "stderr",
     "output_type": "stream",
     "text": [
      " 60%|██████    | 30/50 [21:50<14:21, 43.08s/it]"
     ]
    },
    {
     "name": "stdout",
     "output_type": "stream",
     "text": [
      "epoch 31 : 50\n"
     ]
    },
    {
     "name": "stderr",
     "output_type": "stream",
     "text": [
      " 62%|██████▏   | 31/50 [22:33<13:33, 42.83s/it]"
     ]
    },
    {
     "name": "stdout",
     "output_type": "stream",
     "text": [
      "epoch 32 : 50\n"
     ]
    },
    {
     "name": "stderr",
     "output_type": "stream",
     "text": [
      " 64%|██████▍   | 32/50 [23:14<12:44, 42.46s/it]"
     ]
    },
    {
     "name": "stdout",
     "output_type": "stream",
     "text": [
      "epoch 33 : 50\n"
     ]
    },
    {
     "name": "stderr",
     "output_type": "stream",
     "text": [
      " 66%|██████▌   | 33/50 [23:56<11:59, 42.34s/it]"
     ]
    },
    {
     "name": "stdout",
     "output_type": "stream",
     "text": [
      "epoch 34 : 50\n"
     ]
    },
    {
     "name": "stderr",
     "output_type": "stream",
     "text": [
      " 68%|██████▊   | 34/50 [24:37<11:11, 42.00s/it]"
     ]
    },
    {
     "name": "stdout",
     "output_type": "stream",
     "text": [
      "epoch 35 : 50\n"
     ]
    },
    {
     "name": "stderr",
     "output_type": "stream",
     "text": [
      " 70%|███████   | 35/50 [25:19<10:29, 41.95s/it]"
     ]
    },
    {
     "name": "stdout",
     "output_type": "stream",
     "text": [
      "epoch 36 : 50\n"
     ]
    },
    {
     "name": "stderr",
     "output_type": "stream",
     "text": [
      " 72%|███████▏  | 36/50 [26:04<09:57, 42.68s/it]"
     ]
    },
    {
     "name": "stdout",
     "output_type": "stream",
     "text": [
      "epoch 37 : 50\n"
     ]
    },
    {
     "name": "stderr",
     "output_type": "stream",
     "text": [
      " 74%|███████▍  | 37/50 [26:49<09:23, 43.37s/it]"
     ]
    },
    {
     "name": "stdout",
     "output_type": "stream",
     "text": [
      "epoch 38 : 50\n"
     ]
    },
    {
     "name": "stderr",
     "output_type": "stream",
     "text": [
      " 76%|███████▌  | 38/50 [27:34<08:46, 43.90s/it]"
     ]
    },
    {
     "name": "stdout",
     "output_type": "stream",
     "text": [
      "epoch 39 : 50\n"
     ]
    },
    {
     "name": "stderr",
     "output_type": "stream",
     "text": [
      " 78%|███████▊  | 39/50 [28:20<08:10, 44.56s/it]"
     ]
    },
    {
     "name": "stdout",
     "output_type": "stream",
     "text": [
      "epoch 40 : 50\n"
     ]
    },
    {
     "name": "stderr",
     "output_type": "stream",
     "text": [
      " 80%|████████  | 40/50 [28:57<07:02, 42.28s/it]"
     ]
    },
    {
     "name": "stdout",
     "output_type": "stream",
     "text": [
      "epoch 41 : 50\n"
     ]
    },
    {
     "name": "stderr",
     "output_type": "stream",
     "text": [
      " 82%|████████▏ | 41/50 [29:36<06:12, 41.34s/it]"
     ]
    },
    {
     "name": "stdout",
     "output_type": "stream",
     "text": [
      "epoch 42 : 50\n"
     ]
    },
    {
     "name": "stderr",
     "output_type": "stream",
     "text": [
      " 84%|████████▍ | 42/50 [30:12<05:18, 39.76s/it]"
     ]
    },
    {
     "name": "stdout",
     "output_type": "stream",
     "text": [
      "epoch 43 : 50\n"
     ]
    },
    {
     "name": "stderr",
     "output_type": "stream",
     "text": [
      " 86%|████████▌ | 43/50 [30:51<04:35, 39.39s/it]"
     ]
    },
    {
     "name": "stdout",
     "output_type": "stream",
     "text": [
      "epoch 44 : 50\n"
     ]
    },
    {
     "name": "stderr",
     "output_type": "stream",
     "text": [
      " 88%|████████▊ | 44/50 [31:29<03:53, 38.97s/it]"
     ]
    },
    {
     "name": "stdout",
     "output_type": "stream",
     "text": [
      "epoch 45 : 50\n"
     ]
    },
    {
     "name": "stderr",
     "output_type": "stream",
     "text": [
      " 90%|█████████ | 45/50 [32:06<03:12, 38.56s/it]"
     ]
    },
    {
     "name": "stdout",
     "output_type": "stream",
     "text": [
      "epoch 46 : 50\n"
     ]
    },
    {
     "name": "stderr",
     "output_type": "stream",
     "text": [
      " 92%|█████████▏| 46/50 [32:43<02:32, 38.06s/it]"
     ]
    },
    {
     "name": "stdout",
     "output_type": "stream",
     "text": [
      "epoch 47 : 50\n"
     ]
    },
    {
     "name": "stderr",
     "output_type": "stream",
     "text": [
      " 94%|█████████▍| 47/50 [33:21<01:54, 38.00s/it]"
     ]
    },
    {
     "name": "stdout",
     "output_type": "stream",
     "text": [
      "epoch 48 : 50\n"
     ]
    },
    {
     "name": "stderr",
     "output_type": "stream",
     "text": [
      " 96%|█████████▌| 48/50 [34:02<01:17, 38.99s/it]"
     ]
    },
    {
     "name": "stdout",
     "output_type": "stream",
     "text": [
      "epoch 49 : 50\n"
     ]
    },
    {
     "name": "stderr",
     "output_type": "stream",
     "text": [
      " 98%|█████████▊| 49/50 [34:42<00:39, 39.29s/it]"
     ]
    },
    {
     "name": "stdout",
     "output_type": "stream",
     "text": [
      "epoch 50 : 50\n"
     ]
    },
    {
     "name": "stderr",
     "output_type": "stream",
     "text": [
      "100%|██████████| 50/50 [35:22<00:00, 42.45s/it]\n"
     ]
    }
   ],
   "source": [
    "for epoch in tqdm(range(n_epochs)):\n",
    "    print(f\"epoch {epoch + 1} : 50\")\n",
    "    epoch_train_loss, epoch_test_loss = 0, 0\n",
    "    for ix, (img, kps) in enumerate(train_loader):\n",
    "        loss = train_batch(img, kps, model, optimizer, criterion)\n",
    "        epoch_train_loss += loss.item()\n",
    "    epoch_train_loss /= (ix+1)\n",
    "    \n",
    "    for ix, (img, kps) in enumerate(test_loader):\n",
    "        ps, loss = validate_batch(img, kps, model, criterion)\n",
    "        epoch_test_loss += loss.item()\n",
    "    epoch_test_loss /= (ix+1)\n",
    "    train_loss.append(epoch_train_loss)\n",
    "    test_loss.append(epoch_test_loss)"
   ]
  },
  {
   "cell_type": "code",
   "execution_count": 32,
   "id": "e814aaef",
   "metadata": {
    "gradient": {
     "editing": true,
     "id": "48bcf653-1cb0-433e-8d74-690fce3c7839",
     "kernelId": "933cfa17-22d4-4e5e-9a40-e8da1ac644c5"
    }
   },
   "outputs": [],
   "source": [
    "torch.save(model.state_dict(), 'model/m50e.pt')\n",
    "#model.load_state_dict(torch.load('/Users/vanka/Documents/learn/pytorch-mini-study/facial-key-point-detect/model/m50e.pt'))"
   ]
  },
  {
   "cell_type": "code",
   "execution_count": null,
   "id": "93518bfe",
   "metadata": {
    "gradient": {
     "editing": false,
     "id": "1a52974c-9012-45f9-981a-a8ef58005bb9",
     "kernelId": "933cfa17-22d4-4e5e-9a40-e8da1ac644c5"
    }
   },
   "outputs": [
    {
     "data": {
      "image/png": "[encoded data removed]",
      "text/plain": [
       "<Figure size 432x288 with 1 Axes>"
      ]
     },
     "metadata": {
      "needs_background": "light"
     },
     "output_type": "display_data"
    }
   ],
   "source": [
    "epochs = np.arange(50)+1\n",
    "plt.plot(epochs, train_loss, 'bo', label='Training Loss')\n",
    "plt.plot(epochs, test_loss, 'r', label='Test Loss')\n",
    "plt.title('Training and Test loss over increasing epochs')\n",
    "plt.xlabel('Epochs')\n",
    "plt.ylabel('Loss')\n",
    "plt.legend()\n",
    "plt.grid('off')\n",
    "plt.show()"
   ]
  },
  {
   "cell_type": "markdown",
   "id": "3bc6097d",
   "metadata": {
    "gradient": {
     "editing": false,
     "id": "a8b57f27-802c-4deb-9be4-400d1ba9547a",
     "kernelId": "933cfa17-22d4-4e5e-9a40-e8da1ac644c5"
    }
   },
   "source": [
    "## Testing our model"
   ]
  },
  {
   "cell_type": "code",
   "execution_count": null,
   "id": "5da863eb",
   "metadata": {
    "gradient": {
     "editing": false,
     "id": "88762e75-249a-4070-b711-b20c327a9260",
     "kernelId": "933cfa17-22d4-4e5e-9a40-e8da1ac644c5"
    }
   },
   "outputs": [
    {
     "data": {
      "image/png": "[encoded data removed]",
      "text/plain": [
       "<Figure size 720x720 with 2 Axes>"
      ]
     },
     "metadata": {
      "needs_background": "light"
     },
     "output_type": "display_data"
    }
   ],
   "source": [
    "ix = 0\n",
    "plt.figure(figsize=(10, 10))\n",
    "plt.subplot(221)\n",
    "plt.title('Original Image')\n",
    "im = test_dataset.load_img(ix)\n",
    "plt.imshow(im)\n",
    "plt.grid(False)\n",
    "plt.subplot(222)\n",
    "plt.title(\"Image with facial keypoints\")\n",
    "x, _ = test_dataset[ix]\n",
    "plt.imshow(im)\n",
    "kp = model(x[None]).flatten().detach().cpu()\n",
    "plt.scatter(kp[:68]*224, kp[68:]*224, c='r')\n",
    "plt.grid(False)\n",
    "plt.show()"
   ]
  },
  {
   "cell_type": "code",
   "execution_count": null,
   "id": "2a9a8df0",
   "metadata": {
    "gradient": {
     "editing": false,
     "id": "f23fcdf8-9f05-4846-9484-0e3d4a0341d4",
     "kernelId": "933cfa17-22d4-4e5e-9a40-e8da1ac644c5"
    }
   },
   "outputs": [],
   "source": []
  }
 ],
 "metadata": {
  "kernelspec": {
   "display_name": "Python 3 (ipykernel)",
   "language": "python",
   "name": "python3"
  },
  "language_info": {
   "codemirror_mode": {
    "name": "ipython",
    "version": 3
   },
   "file_extension": ".py",
   "mimetype": "text/x-python",
   "name": "python",
   "nbconvert_exporter": "python",
   "pygments_lexer": "ipython3",
   "version": "3.8.12"
  }
 },
 "nbformat": 4,
 "nbformat_minor": 5
}
