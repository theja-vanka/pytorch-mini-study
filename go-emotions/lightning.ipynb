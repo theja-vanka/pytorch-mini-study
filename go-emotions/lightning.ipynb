{
 "cells": [
  {
   "cell_type": "code",
   "execution_count": 1,
   "id": "9759e45a",
   "metadata": {},
   "outputs": [],
   "source": [
    "import seaborn as sns\n",
    "from pylab import rcParams\n",
    "import matplotlib.pyplot as plt\n",
    "import pandas as pd\n",
    "from pathlib import Path\n",
    "from tqdm import tqdm\n",
    "import os\n",
    "import json\n",
    "from typing import Optional\n",
    "from sklearn.model_selection import train_test_split\n",
    "\n",
    "%matplotlib inline\n",
    "%config InlineBackend.figure_format='retina'\n",
    "sns.set(style='whitegrid', palette='muted', font_scale=1.2)\n",
    "rcParams['figure.figsize'] = 12, 8"
   ]
  },
  {
   "cell_type": "code",
   "execution_count": 2,
   "id": "6694cd56",
   "metadata": {},
   "outputs": [],
   "source": [
    "import torch\n",
    "from torch.utils.data import Dataset, DataLoader\n",
    "import pytorch_lightning as pl\n",
    "from pytorch_lightning.callbacks.model_checkpoint import ModelCheckpoint\n",
    "from pytorch_lightning.loggers import TensorBoardLogger\n",
    "from torch import nn"
   ]
  },
  {
   "cell_type": "code",
   "execution_count": 3,
   "id": "97eca2bb",
   "metadata": {},
   "outputs": [],
   "source": [
    "from transformers import ElectraModel, ElectraPreTrainedModel, ElectraTokenizerFast as ElectraTokenizer, AdamW\n",
    "from transformers.models.electra.modeling_electra import ElectraClassificationHead\n",
    "# from transformers.utils.dummy_pt_objects import ElectraPreTrainedModel\n",
    "from transformers import pipeline"
   ]
  },
  {
   "cell_type": "code",
   "execution_count": 4,
   "id": "fcf7b012",
   "metadata": {},
   "outputs": [],
   "source": [
    "import os\n",
    "os.environ[\"TOKENIZERS_PARALLELISM\"] = \"false\""
   ]
  },
  {
   "cell_type": "code",
   "execution_count": 5,
   "id": "6d4e3c22",
   "metadata": {},
   "outputs": [],
   "source": [
    "%load_ext watermark"
   ]
  },
  {
   "cell_type": "code",
   "execution_count": 6,
   "id": "346d20c9",
   "metadata": {},
   "outputs": [
    {
     "name": "stdout",
     "output_type": "stream",
     "text": [
      "json             : 2.0.9\n",
      "seaborn          : 0.11.2\n",
      "pytorch_lightning: 1.6.4\n",
      "matplotlib       : 3.4.3\n",
      "pandas           : 1.4.3\n",
      "torch            : 1.10.0a0+0aef44c\n",
      "\n"
     ]
    }
   ],
   "source": [
    "%watermark --iversions"
   ]
  },
  {
   "cell_type": "code",
   "execution_count": 7,
   "id": "34caa7f8",
   "metadata": {},
   "outputs": [
    {
     "name": "stderr",
     "output_type": "stream",
     "text": [
      "Global seed set to 42\n"
     ]
    },
    {
     "data": {
      "text/plain": [
       "42"
      ]
     },
     "execution_count": 7,
     "metadata": {},
     "output_type": "execute_result"
    }
   ],
   "source": [
    "pl.seed_everything(42)"
   ]
  },
  {
   "cell_type": "code",
   "execution_count": 8,
   "id": "215ac55d",
   "metadata": {},
   "outputs": [],
   "source": [
    "MODEL_NAME = \"google/electra-base-discriminator\""
   ]
  },
  {
   "cell_type": "code",
   "execution_count": 9,
   "id": "31e5d3f8",
   "metadata": {},
   "outputs": [
    {
     "name": "stdout",
     "output_type": "stream",
     "text": [
      "Data is present !!!\n"
     ]
    }
   ],
   "source": [
    "if not os.path.exists('data'):\n",
    "    !mkdir data\n",
    "    !wget -P data/ https://storage.googleapis.com/gresearch/goemotions/data/full_dataset/goemotions_1.csv\n",
    "    !wget -P data/ https://storage.googleapis.com/gresearch/goemotions/data/full_dataset/goemotions_2.csv\n",
    "    !wget -P data/ https://storage.googleapis.com/gresearch/goemotions/data/full_dataset/goemotions_3.csv\n",
    "    print('Download data set from link')\n",
    "    pass\n",
    "else:\n",
    "    print('Data is present !!!')"
   ]
  },
  {
   "cell_type": "code",
   "execution_count": 10,
   "id": "445dd272",
   "metadata": {},
   "outputs": [
    {
     "data": {
      "text/html": [
       "<div>\n",
       "<style scoped>\n",
       "    .dataframe tbody tr th:only-of-type {\n",
       "        vertical-align: middle;\n",
       "    }\n",
       "\n",
       "    .dataframe tbody tr th {\n",
       "        vertical-align: top;\n",
       "    }\n",
       "\n",
       "    .dataframe thead th {\n",
       "        text-align: right;\n",
       "    }\n",
       "</style>\n",
       "<table border=\"1\" class=\"dataframe\">\n",
       "  <thead>\n",
       "    <tr style=\"text-align: right;\">\n",
       "      <th></th>\n",
       "      <th>text</th>\n",
       "      <th>id</th>\n",
       "      <th>author</th>\n",
       "      <th>subreddit</th>\n",
       "      <th>link_id</th>\n",
       "      <th>parent_id</th>\n",
       "      <th>created_utc</th>\n",
       "      <th>rater_id</th>\n",
       "      <th>example_very_unclear</th>\n",
       "      <th>admiration</th>\n",
       "      <th>...</th>\n",
       "      <th>love</th>\n",
       "      <th>nervousness</th>\n",
       "      <th>optimism</th>\n",
       "      <th>pride</th>\n",
       "      <th>realization</th>\n",
       "      <th>relief</th>\n",
       "      <th>remorse</th>\n",
       "      <th>sadness</th>\n",
       "      <th>surprise</th>\n",
       "      <th>neutral</th>\n",
       "    </tr>\n",
       "  </thead>\n",
       "  <tbody>\n",
       "    <tr>\n",
       "      <th>0</th>\n",
       "      <td>We can hope</td>\n",
       "      <td>ee3o3ko</td>\n",
       "      <td>darkenseyreth</td>\n",
       "      <td>EdmontonOilers</td>\n",
       "      <td>t3_ag4r9j</td>\n",
       "      <td>t1_ee3mhad</td>\n",
       "      <td>2019-01-15 05:15:35</td>\n",
       "      <td>62</td>\n",
       "      <td>False</td>\n",
       "      <td>0</td>\n",
       "      <td>...</td>\n",
       "      <td>0</td>\n",
       "      <td>0</td>\n",
       "      <td>1</td>\n",
       "      <td>0</td>\n",
       "      <td>0</td>\n",
       "      <td>0</td>\n",
       "      <td>0</td>\n",
       "      <td>0</td>\n",
       "      <td>0</td>\n",
       "      <td>0</td>\n",
       "    </tr>\n",
       "    <tr>\n",
       "      <th>1</th>\n",
       "      <td>Shhh don't give them the idea!</td>\n",
       "      <td>eebl3z7</td>\n",
       "      <td>BoinkBoinkEtAliae</td>\n",
       "      <td>MurderedByWords</td>\n",
       "      <td>t3_ah3o76</td>\n",
       "      <td>t1_eeb68lo</td>\n",
       "      <td>2019-01-18 02:06:58</td>\n",
       "      <td>76</td>\n",
       "      <td>False</td>\n",
       "      <td>0</td>\n",
       "      <td>...</td>\n",
       "      <td>0</td>\n",
       "      <td>0</td>\n",
       "      <td>0</td>\n",
       "      <td>0</td>\n",
       "      <td>0</td>\n",
       "      <td>0</td>\n",
       "      <td>0</td>\n",
       "      <td>0</td>\n",
       "      <td>0</td>\n",
       "      <td>0</td>\n",
       "    </tr>\n",
       "    <tr>\n",
       "      <th>2</th>\n",
       "      <td>Thank you so much, kind stranger. I really nee...</td>\n",
       "      <td>ed4fe9l</td>\n",
       "      <td>savageleaf</td>\n",
       "      <td>raisedbynarcissists</td>\n",
       "      <td>t3_abwh00</td>\n",
       "      <td>t1_ed4etbj</td>\n",
       "      <td>2019-01-03 02:27:40</td>\n",
       "      <td>24</td>\n",
       "      <td>False</td>\n",
       "      <td>0</td>\n",
       "      <td>...</td>\n",
       "      <td>0</td>\n",
       "      <td>0</td>\n",
       "      <td>0</td>\n",
       "      <td>0</td>\n",
       "      <td>0</td>\n",
       "      <td>0</td>\n",
       "      <td>0</td>\n",
       "      <td>0</td>\n",
       "      <td>0</td>\n",
       "      <td>0</td>\n",
       "    </tr>\n",
       "    <tr>\n",
       "      <th>3</th>\n",
       "      <td>Ion know but it would be better for you to jus...</td>\n",
       "      <td>efavtdu</td>\n",
       "      <td>CADDiLLXC</td>\n",
       "      <td>darknet</td>\n",
       "      <td>t3_al4njw</td>\n",
       "      <td>t3_al4njw</td>\n",
       "      <td>2019-01-29 22:17:11</td>\n",
       "      <td>62</td>\n",
       "      <td>False</td>\n",
       "      <td>0</td>\n",
       "      <td>...</td>\n",
       "      <td>0</td>\n",
       "      <td>0</td>\n",
       "      <td>0</td>\n",
       "      <td>0</td>\n",
       "      <td>0</td>\n",
       "      <td>0</td>\n",
       "      <td>0</td>\n",
       "      <td>0</td>\n",
       "      <td>0</td>\n",
       "      <td>1</td>\n",
       "    </tr>\n",
       "    <tr>\n",
       "      <th>4</th>\n",
       "      <td>I'm honestly surprised. We should have fallen ...</td>\n",
       "      <td>ee2imz2</td>\n",
       "      <td>CorporalThornberry</td>\n",
       "      <td>CollegeBasketball</td>\n",
       "      <td>t3_afxt6t</td>\n",
       "      <td>t1_ee22nyr</td>\n",
       "      <td>2019-01-14 20:17:01</td>\n",
       "      <td>55</td>\n",
       "      <td>False</td>\n",
       "      <td>0</td>\n",
       "      <td>...</td>\n",
       "      <td>0</td>\n",
       "      <td>0</td>\n",
       "      <td>0</td>\n",
       "      <td>0</td>\n",
       "      <td>0</td>\n",
       "      <td>0</td>\n",
       "      <td>0</td>\n",
       "      <td>0</td>\n",
       "      <td>0</td>\n",
       "      <td>0</td>\n",
       "    </tr>\n",
       "  </tbody>\n",
       "</table>\n",
       "<p>5 rows × 37 columns</p>\n",
       "</div>"
      ],
      "text/plain": [
       "                                                text       id  \\\n",
       "0                                        We can hope  ee3o3ko   \n",
       "1                     Shhh don't give them the idea!  eebl3z7   \n",
       "2  Thank you so much, kind stranger. I really nee...  ed4fe9l   \n",
       "3  Ion know but it would be better for you to jus...  efavtdu   \n",
       "4  I'm honestly surprised. We should have fallen ...  ee2imz2   \n",
       "\n",
       "               author            subreddit    link_id   parent_id  \\\n",
       "0       darkenseyreth       EdmontonOilers  t3_ag4r9j  t1_ee3mhad   \n",
       "1   BoinkBoinkEtAliae      MurderedByWords  t3_ah3o76  t1_eeb68lo   \n",
       "2          savageleaf  raisedbynarcissists  t3_abwh00  t1_ed4etbj   \n",
       "3           CADDiLLXC              darknet  t3_al4njw   t3_al4njw   \n",
       "4  CorporalThornberry    CollegeBasketball  t3_afxt6t  t1_ee22nyr   \n",
       "\n",
       "          created_utc  rater_id  example_very_unclear  admiration  ...  love  \\\n",
       "0 2019-01-15 05:15:35        62                 False           0  ...     0   \n",
       "1 2019-01-18 02:06:58        76                 False           0  ...     0   \n",
       "2 2019-01-03 02:27:40        24                 False           0  ...     0   \n",
       "3 2019-01-29 22:17:11        62                 False           0  ...     0   \n",
       "4 2019-01-14 20:17:01        55                 False           0  ...     0   \n",
       "\n",
       "   nervousness  optimism  pride  realization  relief  remorse  sadness  \\\n",
       "0            0         1      0            0       0        0        0   \n",
       "1            0         0      0            0       0        0        0   \n",
       "2            0         0      0            0       0        0        0   \n",
       "3            0         0      0            0       0        0        0   \n",
       "4            0         0      0            0       0        0        0   \n",
       "\n",
       "   surprise  neutral  \n",
       "0         0        0  \n",
       "1         0        0  \n",
       "2         0        0  \n",
       "3         0        1  \n",
       "4         0        0  \n",
       "\n",
       "[5 rows x 37 columns]"
      ]
     },
     "execution_count": 10,
     "metadata": {},
     "output_type": "execute_result"
    }
   ],
   "source": [
    "file_paths = Path(\"data\").glob(\"*.csv\")\n",
    "\n",
    "dfs = []\n",
    "for file in file_paths:\n",
    "    dfs.append(pd.read_csv(file))\n",
    "\n",
    "df = pd.concat(dfs)\n",
    "df.created_utc = pd.to_datetime(df.created_utc, unit='s')\n",
    "df.head()"
   ]
  },
  {
   "cell_type": "code",
   "execution_count": 11,
   "id": "6ed790a4",
   "metadata": {},
   "outputs": [
    {
     "data": {
      "text/plain": [
       "(211225, 37)"
      ]
     },
     "execution_count": 11,
     "metadata": {},
     "output_type": "execute_result"
    }
   ],
   "source": [
    "df.shape"
   ]
  },
  {
   "cell_type": "code",
   "execution_count": 12,
   "id": "be3a75a0",
   "metadata": {},
   "outputs": [
    {
     "data": {
      "text/plain": [
       "(58011, 37)"
      ]
     },
     "execution_count": 12,
     "metadata": {},
     "output_type": "execute_result"
    }
   ],
   "source": [
    "df.groupby(\"id\").head(1).shape"
   ]
  },
  {
   "cell_type": "code",
   "execution_count": 13,
   "id": "edad6b28",
   "metadata": {},
   "outputs": [
    {
     "data": {
      "text/plain": [
       "Index(['admiration', 'amusement', 'anger', 'annoyance', 'approval', 'caring',\n",
       "       'confusion', 'curiosity', 'desire', 'disappointment', 'disapproval',\n",
       "       'disgust', 'embarrassment', 'excitement', 'fear', 'gratitude', 'grief',\n",
       "       'joy', 'love', 'nervousness', 'optimism', 'pride', 'realization',\n",
       "       'relief', 'remorse', 'sadness', 'surprise', 'neutral'],\n",
       "      dtype='object')"
      ]
     },
     "execution_count": 13,
     "metadata": {},
     "output_type": "execute_result"
    }
   ],
   "source": [
    "emotion_categories = df.columns[9:]\n",
    "emotion_categories"
   ]
  },
  {
   "cell_type": "code",
   "execution_count": 14,
   "id": "521e25e6",
   "metadata": {},
   "outputs": [
    {
     "data": {
      "text/html": [
       "<div>\n",
       "<style scoped>\n",
       "    .dataframe tbody tr th:only-of-type {\n",
       "        vertical-align: middle;\n",
       "    }\n",
       "\n",
       "    .dataframe tbody tr th {\n",
       "        vertical-align: top;\n",
       "    }\n",
       "\n",
       "    .dataframe thead th {\n",
       "        text-align: right;\n",
       "    }\n",
       "</style>\n",
       "<table border=\"1\" class=\"dataframe\">\n",
       "  <thead>\n",
       "    <tr style=\"text-align: right;\">\n",
       "      <th></th>\n",
       "      <th>text</th>\n",
       "      <th>id</th>\n",
       "      <th>author</th>\n",
       "      <th>subreddit</th>\n",
       "      <th>link_id</th>\n",
       "      <th>parent_id</th>\n",
       "      <th>created_utc</th>\n",
       "      <th>rater_id</th>\n",
       "      <th>example_very_unclear</th>\n",
       "      <th>admiration</th>\n",
       "      <th>...</th>\n",
       "      <th>love</th>\n",
       "      <th>nervousness</th>\n",
       "      <th>optimism</th>\n",
       "      <th>pride</th>\n",
       "      <th>realization</th>\n",
       "      <th>relief</th>\n",
       "      <th>remorse</th>\n",
       "      <th>sadness</th>\n",
       "      <th>surprise</th>\n",
       "      <th>neutral</th>\n",
       "    </tr>\n",
       "  </thead>\n",
       "  <tbody>\n",
       "    <tr>\n",
       "      <th>10</th>\n",
       "      <td>That’s terrible; I would be devastated. You ha...</td>\n",
       "      <td>eehquwb</td>\n",
       "      <td>[deleted]</td>\n",
       "      <td>Divorce</td>\n",
       "      <td>t3_ahnqu3</td>\n",
       "      <td>t1_eeh6naq</td>\n",
       "      <td>2019-01-20 01:55:08</td>\n",
       "      <td>61</td>\n",
       "      <td>False</td>\n",
       "      <td>0</td>\n",
       "      <td>...</td>\n",
       "      <td>0</td>\n",
       "      <td>0</td>\n",
       "      <td>1</td>\n",
       "      <td>0</td>\n",
       "      <td>0</td>\n",
       "      <td>0</td>\n",
       "      <td>0</td>\n",
       "      <td>0</td>\n",
       "      <td>0</td>\n",
       "      <td>0</td>\n",
       "    </tr>\n",
       "    <tr>\n",
       "      <th>13987</th>\n",
       "      <td>That’s terrible; I would be devastated. You ha...</td>\n",
       "      <td>eehquwb</td>\n",
       "      <td>[deleted]</td>\n",
       "      <td>Divorce</td>\n",
       "      <td>t3_ahnqu3</td>\n",
       "      <td>t1_eeh6naq</td>\n",
       "      <td>2019-01-20 01:55:08</td>\n",
       "      <td>37</td>\n",
       "      <td>False</td>\n",
       "      <td>0</td>\n",
       "      <td>...</td>\n",
       "      <td>0</td>\n",
       "      <td>0</td>\n",
       "      <td>1</td>\n",
       "      <td>0</td>\n",
       "      <td>0</td>\n",
       "      <td>0</td>\n",
       "      <td>0</td>\n",
       "      <td>0</td>\n",
       "      <td>0</td>\n",
       "      <td>0</td>\n",
       "    </tr>\n",
       "    <tr>\n",
       "      <th>19184</th>\n",
       "      <td>That’s terrible; I would be devastated. You ha...</td>\n",
       "      <td>eehquwb</td>\n",
       "      <td>[deleted]</td>\n",
       "      <td>Divorce</td>\n",
       "      <td>t3_ahnqu3</td>\n",
       "      <td>t1_eeh6naq</td>\n",
       "      <td>2019-01-20 01:55:08</td>\n",
       "      <td>4</td>\n",
       "      <td>False</td>\n",
       "      <td>0</td>\n",
       "      <td>...</td>\n",
       "      <td>0</td>\n",
       "      <td>0</td>\n",
       "      <td>0</td>\n",
       "      <td>0</td>\n",
       "      <td>0</td>\n",
       "      <td>0</td>\n",
       "      <td>0</td>\n",
       "      <td>1</td>\n",
       "      <td>0</td>\n",
       "      <td>0</td>\n",
       "    </tr>\n",
       "  </tbody>\n",
       "</table>\n",
       "<p>3 rows × 37 columns</p>\n",
       "</div>"
      ],
      "text/plain": [
       "                                                    text       id     author  \\\n",
       "10     That’s terrible; I would be devastated. You ha...  eehquwb  [deleted]   \n",
       "13987  That’s terrible; I would be devastated. You ha...  eehquwb  [deleted]   \n",
       "19184  That’s terrible; I would be devastated. You ha...  eehquwb  [deleted]   \n",
       "\n",
       "      subreddit    link_id   parent_id         created_utc  rater_id  \\\n",
       "10      Divorce  t3_ahnqu3  t1_eeh6naq 2019-01-20 01:55:08        61   \n",
       "13987   Divorce  t3_ahnqu3  t1_eeh6naq 2019-01-20 01:55:08        37   \n",
       "19184   Divorce  t3_ahnqu3  t1_eeh6naq 2019-01-20 01:55:08         4   \n",
       "\n",
       "       example_very_unclear  admiration  ...  love  nervousness  optimism  \\\n",
       "10                    False           0  ...     0            0         1   \n",
       "13987                 False           0  ...     0            0         1   \n",
       "19184                 False           0  ...     0            0         0   \n",
       "\n",
       "       pride  realization  relief  remorse  sadness  surprise  neutral  \n",
       "10         0            0       0        0        0         0        0  \n",
       "13987      0            0       0        0        0         0        0  \n",
       "19184      0            0       0        0        1         0        0  \n",
       "\n",
       "[3 rows x 37 columns]"
      ]
     },
     "execution_count": 14,
     "metadata": {},
     "output_type": "execute_result"
    }
   ],
   "source": [
    "row = df.iloc[10]\n",
    "sample_ratings = df[df.id == row.id]\n",
    "sample_ratings"
   ]
  },
  {
   "cell_type": "code",
   "execution_count": 15,
   "id": "45817f32",
   "metadata": {},
   "outputs": [
    {
     "data": {
      "text/plain": [
       "'approval, caring, disgust, optimism, sadness'"
      ]
     },
     "execution_count": 15,
     "metadata": {},
     "output_type": "execute_result"
    }
   ],
   "source": [
    "ratings = sample_ratings[emotion_categories]\n",
    "ratings = ratings.columns[ratings.sum(axis=0) > 0]\n",
    "ratings = \", \".join(ratings)\n",
    "ratings"
   ]
  },
  {
   "cell_type": "code",
   "execution_count": 16,
   "id": "8772decd",
   "metadata": {},
   "outputs": [
    {
     "name": "stdout",
     "output_type": "stream",
     "text": [
      "text     ::   That’s terrible; I would be devastated. You had to get out of there though. I’m thinking of you.\n",
      "emotions ::   approval, caring, disgust, optimism, sadness\n"
     ]
    }
   ],
   "source": [
    "print(f\"text     ::   {row.text}\")\n",
    "print(f\"emotions ::   {ratings}\")"
   ]
  },
  {
   "cell_type": "code",
   "execution_count": null,
   "id": "b7e375f6",
   "metadata": {},
   "outputs": [],
   "source": []
  },
  {
   "cell_type": "code",
   "execution_count": 17,
   "id": "1eea39ce",
   "metadata": {},
   "outputs": [
    {
     "data": {
      "application/vnd.jupyter.widget-view+json": {
       "model_id": "47078ad6fda04870beabdad6e94307bc",
       "version_major": 2,
       "version_minor": 0
      },
      "text/plain": [
       "Downloading:   0%|          | 0.00/27.0 [00:00<?, ?B/s]"
      ]
     },
     "metadata": {},
     "output_type": "display_data"
    },
    {
     "data": {
      "application/vnd.jupyter.widget-view+json": {
       "model_id": "a21edcae9ce349d9a812d2417a186348",
       "version_major": 2,
       "version_minor": 0
      },
      "text/plain": [
       "Downloading:   0%|          | 0.00/226k [00:00<?, ?B/s]"
      ]
     },
     "metadata": {},
     "output_type": "display_data"
    },
    {
     "data": {
      "application/vnd.jupyter.widget-view+json": {
       "model_id": "d28276bb131142729ea1c717707aace6",
       "version_major": 2,
       "version_minor": 0
      },
      "text/plain": [
       "Downloading:   0%|          | 0.00/455k [00:00<?, ?B/s]"
      ]
     },
     "metadata": {},
     "output_type": "display_data"
    },
    {
     "data": {
      "application/vnd.jupyter.widget-view+json": {
       "model_id": "1872104e498d4c9b835b56fbf84046f1",
       "version_major": 2,
       "version_minor": 0
      },
      "text/plain": [
       "Downloading:   0%|          | 0.00/666 [00:00<?, ?B/s]"
      ]
     },
     "metadata": {},
     "output_type": "display_data"
    }
   ],
   "source": [
    "tokenizer = ElectraTokenizer.from_pretrained(MODEL_NAME)"
   ]
  },
  {
   "cell_type": "code",
   "execution_count": 18,
   "id": "c35dae5e",
   "metadata": {},
   "outputs": [
    {
     "data": {
      "text/plain": [
       "{'input_ids': [101, 2008, 1521, 1055, 6659, 1025, 1045, 2052, 2022, 13879, 1012, 2017, 2018, 2000, 2131, 2041, 1997, 2045, 2295, 1012, 1045, 1521, 1049, 3241, 1997, 2017, 1012, 102], 'token_type_ids': [0, 0, 0, 0, 0, 0, 0, 0, 0, 0, 0, 0, 0, 0, 0, 0, 0, 0, 0, 0, 0, 0, 0, 0, 0, 0, 0, 0], 'attention_mask': [1, 1, 1, 1, 1, 1, 1, 1, 1, 1, 1, 1, 1, 1, 1, 1, 1, 1, 1, 1, 1, 1, 1, 1, 1, 1, 1, 1]}"
      ]
     },
     "execution_count": 18,
     "metadata": {},
     "output_type": "execute_result"
    }
   ],
   "source": [
    "encoding = tokenizer(row.text)\n",
    "encoding"
   ]
  },
  {
   "cell_type": "code",
   "execution_count": 19,
   "id": "1a4d84df",
   "metadata": {},
   "outputs": [
    {
     "name": "stdout",
     "output_type": "stream",
     "text": [
      "Text      :: That’s terrible; I would be devastated. You had to get out of there though. I’m thinking of you.\n",
      "Tokens    :: ['[CLS]', 'that', '’', 's', 'terrible', ';', 'i', 'would', 'be', 'devastated', '.', 'you', 'had', 'to', 'get', 'out', 'of', 'there', 'though', '.', 'i', '’', 'm', 'thinking', 'of', 'you', '.', '[SEP]']\n",
      "Token IDs :: [101, 2008, 1521, 1055, 6659, 1025, 1045, 2052, 2022, 13879, 1012, 2017, 2018, 2000, 2131, 2041, 1997, 2045, 2295, 1012, 1045, 1521, 1049, 3241, 1997, 2017, 1012, 102]\n"
     ]
    }
   ],
   "source": [
    "print(f\"Text      :: {row.text}\")\n",
    "print(f\"Tokens    :: {encoding.tokens()}\")\n",
    "print(f\"Token IDs :: {encoding['input_ids']}\")"
   ]
  },
  {
   "cell_type": "code",
   "execution_count": 20,
   "id": "3c982ef8",
   "metadata": {},
   "outputs": [
    {
     "name": "stderr",
     "output_type": "stream",
     "text": [
      "100%|██████████| 58011/58011 [00:08<00:00, 6545.38it/s]\n"
     ]
    }
   ],
   "source": [
    "token_lens = []\n",
    "\n",
    "texts = df.groupby(\"id\").head(1).text\n",
    "\n",
    "for text in tqdm(texts):\n",
    "    encoding = tokenizer(text)\n",
    "    token_lens.append(len(encoding.tokens()))"
   ]
  },
  {
   "cell_type": "code",
   "execution_count": 21,
   "id": "81bd82d4",
   "metadata": {},
   "outputs": [
    {
     "data": {
      "text/plain": [
       "316    1\n",
       "115    1\n",
       "82     1\n",
       "63     1\n",
       "57     1\n",
       "55     1\n",
       "54     1\n",
       "53     1\n",
       "52     2\n",
       "51     1\n",
       "dtype: int64"
      ]
     },
     "execution_count": 21,
     "metadata": {},
     "output_type": "execute_result"
    }
   ],
   "source": [
    "pd.Series(token_lens).value_counts().sort_index(ascending=False)[:10]"
   ]
  },
  {
   "cell_type": "code",
   "execution_count": 22,
   "id": "4535163c",
   "metadata": {},
   "outputs": [
    {
     "data": {
      "text/plain": [
       "Text(0.5, 0, 'Token count')"
      ]
     },
     "execution_count": 22,
     "metadata": {},
     "output_type": "execute_result"
    },
    {
     "data": {
      "image/png": "[encoded data removed]",
      "text/plain": [
       "<Figure size 864x576 with 1 Axes>"
      ]
     },
     "metadata": {
      "image/png": {
       "height": 489,
       "width": 745
      }
     },
     "output_type": "display_data"
    }
   ],
   "source": [
    "sns.histplot(token_lens)\n",
    "plt.xlim(0,64)\n",
    "plt.xlabel(\"Token count\")"
   ]
  },
  {
   "cell_type": "code",
   "execution_count": 23,
   "id": "a2d04b29",
   "metadata": {},
   "outputs": [
    {
     "data": {
      "text/html": [
       "<div>\n",
       "<style scoped>\n",
       "    .dataframe tbody tr th:only-of-type {\n",
       "        vertical-align: middle;\n",
       "    }\n",
       "\n",
       "    .dataframe tbody tr th {\n",
       "        vertical-align: top;\n",
       "    }\n",
       "\n",
       "    .dataframe thead th {\n",
       "        text-align: right;\n",
       "    }\n",
       "</style>\n",
       "<table border=\"1\" class=\"dataframe\">\n",
       "  <thead>\n",
       "    <tr style=\"text-align: right;\">\n",
       "      <th></th>\n",
       "      <th>text</th>\n",
       "      <th>id</th>\n",
       "      <th>author</th>\n",
       "      <th>subreddit</th>\n",
       "      <th>link_id</th>\n",
       "      <th>parent_id</th>\n",
       "      <th>created_utc</th>\n",
       "      <th>rater_id</th>\n",
       "      <th>example_very_unclear</th>\n",
       "      <th>admiration</th>\n",
       "      <th>...</th>\n",
       "      <th>love</th>\n",
       "      <th>nervousness</th>\n",
       "      <th>optimism</th>\n",
       "      <th>pride</th>\n",
       "      <th>realization</th>\n",
       "      <th>relief</th>\n",
       "      <th>remorse</th>\n",
       "      <th>sadness</th>\n",
       "      <th>surprise</th>\n",
       "      <th>neutral</th>\n",
       "    </tr>\n",
       "  </thead>\n",
       "  <tbody>\n",
       "    <tr>\n",
       "      <th>0</th>\n",
       "      <td>We can hope</td>\n",
       "      <td>ee3o3ko</td>\n",
       "      <td>darkenseyreth</td>\n",
       "      <td>EdmontonOilers</td>\n",
       "      <td>t3_ag4r9j</td>\n",
       "      <td>t1_ee3mhad</td>\n",
       "      <td>2019-01-15 05:15:35</td>\n",
       "      <td>62</td>\n",
       "      <td>False</td>\n",
       "      <td>0</td>\n",
       "      <td>...</td>\n",
       "      <td>0</td>\n",
       "      <td>0</td>\n",
       "      <td>1</td>\n",
       "      <td>0</td>\n",
       "      <td>0</td>\n",
       "      <td>0</td>\n",
       "      <td>0</td>\n",
       "      <td>0</td>\n",
       "      <td>0</td>\n",
       "      <td>0</td>\n",
       "    </tr>\n",
       "    <tr>\n",
       "      <th>1</th>\n",
       "      <td>Shhh don't give them the idea!</td>\n",
       "      <td>eebl3z7</td>\n",
       "      <td>BoinkBoinkEtAliae</td>\n",
       "      <td>MurderedByWords</td>\n",
       "      <td>t3_ah3o76</td>\n",
       "      <td>t1_eeb68lo</td>\n",
       "      <td>2019-01-18 02:06:58</td>\n",
       "      <td>76</td>\n",
       "      <td>False</td>\n",
       "      <td>0</td>\n",
       "      <td>...</td>\n",
       "      <td>0</td>\n",
       "      <td>0</td>\n",
       "      <td>0</td>\n",
       "      <td>0</td>\n",
       "      <td>0</td>\n",
       "      <td>0</td>\n",
       "      <td>0</td>\n",
       "      <td>0</td>\n",
       "      <td>0</td>\n",
       "      <td>0</td>\n",
       "    </tr>\n",
       "    <tr>\n",
       "      <th>2</th>\n",
       "      <td>Thank you so much, kind stranger. I really nee...</td>\n",
       "      <td>ed4fe9l</td>\n",
       "      <td>savageleaf</td>\n",
       "      <td>raisedbynarcissists</td>\n",
       "      <td>t3_abwh00</td>\n",
       "      <td>t1_ed4etbj</td>\n",
       "      <td>2019-01-03 02:27:40</td>\n",
       "      <td>24</td>\n",
       "      <td>False</td>\n",
       "      <td>0</td>\n",
       "      <td>...</td>\n",
       "      <td>0</td>\n",
       "      <td>0</td>\n",
       "      <td>0</td>\n",
       "      <td>0</td>\n",
       "      <td>0</td>\n",
       "      <td>0</td>\n",
       "      <td>0</td>\n",
       "      <td>0</td>\n",
       "      <td>0</td>\n",
       "      <td>0</td>\n",
       "    </tr>\n",
       "    <tr>\n",
       "      <th>3</th>\n",
       "      <td>Ion know but it would be better for you to jus...</td>\n",
       "      <td>efavtdu</td>\n",
       "      <td>CADDiLLXC</td>\n",
       "      <td>darknet</td>\n",
       "      <td>t3_al4njw</td>\n",
       "      <td>t3_al4njw</td>\n",
       "      <td>2019-01-29 22:17:11</td>\n",
       "      <td>62</td>\n",
       "      <td>False</td>\n",
       "      <td>0</td>\n",
       "      <td>...</td>\n",
       "      <td>0</td>\n",
       "      <td>0</td>\n",
       "      <td>0</td>\n",
       "      <td>0</td>\n",
       "      <td>0</td>\n",
       "      <td>0</td>\n",
       "      <td>0</td>\n",
       "      <td>0</td>\n",
       "      <td>0</td>\n",
       "      <td>1</td>\n",
       "    </tr>\n",
       "    <tr>\n",
       "      <th>4</th>\n",
       "      <td>I'm honestly surprised. We should have fallen ...</td>\n",
       "      <td>ee2imz2</td>\n",
       "      <td>CorporalThornberry</td>\n",
       "      <td>CollegeBasketball</td>\n",
       "      <td>t3_afxt6t</td>\n",
       "      <td>t1_ee22nyr</td>\n",
       "      <td>2019-01-14 20:17:01</td>\n",
       "      <td>55</td>\n",
       "      <td>False</td>\n",
       "      <td>0</td>\n",
       "      <td>...</td>\n",
       "      <td>0</td>\n",
       "      <td>0</td>\n",
       "      <td>0</td>\n",
       "      <td>0</td>\n",
       "      <td>0</td>\n",
       "      <td>0</td>\n",
       "      <td>0</td>\n",
       "      <td>0</td>\n",
       "      <td>0</td>\n",
       "      <td>0</td>\n",
       "    </tr>\n",
       "  </tbody>\n",
       "</table>\n",
       "<p>5 rows × 37 columns</p>\n",
       "</div>"
      ],
      "text/plain": [
       "                                                text       id  \\\n",
       "0                                        We can hope  ee3o3ko   \n",
       "1                     Shhh don't give them the idea!  eebl3z7   \n",
       "2  Thank you so much, kind stranger. I really nee...  ed4fe9l   \n",
       "3  Ion know but it would be better for you to jus...  efavtdu   \n",
       "4  I'm honestly surprised. We should have fallen ...  ee2imz2   \n",
       "\n",
       "               author            subreddit    link_id   parent_id  \\\n",
       "0       darkenseyreth       EdmontonOilers  t3_ag4r9j  t1_ee3mhad   \n",
       "1   BoinkBoinkEtAliae      MurderedByWords  t3_ah3o76  t1_eeb68lo   \n",
       "2          savageleaf  raisedbynarcissists  t3_abwh00  t1_ed4etbj   \n",
       "3           CADDiLLXC              darknet  t3_al4njw   t3_al4njw   \n",
       "4  CorporalThornberry    CollegeBasketball  t3_afxt6t  t1_ee22nyr   \n",
       "\n",
       "          created_utc  rater_id  example_very_unclear  admiration  ...  love  \\\n",
       "0 2019-01-15 05:15:35        62                 False           0  ...     0   \n",
       "1 2019-01-18 02:06:58        76                 False           0  ...     0   \n",
       "2 2019-01-03 02:27:40        24                 False           0  ...     0   \n",
       "3 2019-01-29 22:17:11        62                 False           0  ...     0   \n",
       "4 2019-01-14 20:17:01        55                 False           0  ...     0   \n",
       "\n",
       "   nervousness  optimism  pride  realization  relief  remorse  sadness  \\\n",
       "0            0         1      0            0       0        0        0   \n",
       "1            0         0      0            0       0        0        0   \n",
       "2            0         0      0            0       0        0        0   \n",
       "3            0         0      0            0       0        0        0   \n",
       "4            0         0      0            0       0        0        0   \n",
       "\n",
       "   surprise  neutral  \n",
       "0         0        0  \n",
       "1         0        0  \n",
       "2         0        0  \n",
       "3         0        1  \n",
       "4         0        0  \n",
       "\n",
       "[5 rows x 37 columns]"
      ]
     },
     "execution_count": 23,
     "metadata": {},
     "output_type": "execute_result"
    }
   ],
   "source": [
    "df.head()"
   ]
  },
  {
   "cell_type": "code",
   "execution_count": 24,
   "id": "845b467e",
   "metadata": {},
   "outputs": [],
   "source": [
    "texts = []\n",
    "emotions = []\n",
    "\n",
    "for comment_id, group in df.groupby(\"id\"):\n",
    "    texts.append(group.iloc[0].text)\n",
    "    emotions.append(group[emotion_categories].sum(axis=0).argmax())"
   ]
  },
  {
   "cell_type": "code",
   "execution_count": 25,
   "id": "52927419",
   "metadata": {},
   "outputs": [
    {
     "data": {
      "text/html": [
       "<div>\n",
       "<style scoped>\n",
       "    .dataframe tbody tr th:only-of-type {\n",
       "        vertical-align: middle;\n",
       "    }\n",
       "\n",
       "    .dataframe tbody tr th {\n",
       "        vertical-align: top;\n",
       "    }\n",
       "\n",
       "    .dataframe thead th {\n",
       "        text-align: right;\n",
       "    }\n",
       "</style>\n",
       "<table border=\"1\" class=\"dataframe\">\n",
       "  <thead>\n",
       "    <tr style=\"text-align: right;\">\n",
       "      <th></th>\n",
       "      <th>text</th>\n",
       "      <th>emotion</th>\n",
       "    </tr>\n",
       "  </thead>\n",
       "  <tbody>\n",
       "    <tr>\n",
       "      <th>0</th>\n",
       "      <td>Fast as [NAME] will carry me. Seriously uptown...</td>\n",
       "      <td>4</td>\n",
       "    </tr>\n",
       "    <tr>\n",
       "      <th>1</th>\n",
       "      <td>You blew it. They played you like a fiddle.</td>\n",
       "      <td>27</td>\n",
       "    </tr>\n",
       "    <tr>\n",
       "      <th>2</th>\n",
       "      <td>TL;DR No more Superbowls for [NAME]. Get ready...</td>\n",
       "      <td>9</td>\n",
       "    </tr>\n",
       "    <tr>\n",
       "      <th>3</th>\n",
       "      <td>So much time saved. Not.</td>\n",
       "      <td>7</td>\n",
       "    </tr>\n",
       "    <tr>\n",
       "      <th>4</th>\n",
       "      <td>Emotes have a ridiculous amount of effort put ...</td>\n",
       "      <td>27</td>\n",
       "    </tr>\n",
       "  </tbody>\n",
       "</table>\n",
       "</div>"
      ],
      "text/plain": [
       "                                                text  emotion\n",
       "0  Fast as [NAME] will carry me. Seriously uptown...        4\n",
       "1        You blew it. They played you like a fiddle.       27\n",
       "2  TL;DR No more Superbowls for [NAME]. Get ready...        9\n",
       "3                           So much time saved. Not.        7\n",
       "4  Emotes have a ridiculous amount of effort put ...       27"
      ]
     },
     "execution_count": 25,
     "metadata": {},
     "output_type": "execute_result"
    }
   ],
   "source": [
    "text_df = pd.DataFrame({\"text\": texts, \"emotion\": emotions})\n",
    "text_df.head()"
   ]
  },
  {
   "cell_type": "code",
   "execution_count": 26,
   "id": "87d37e84",
   "metadata": {},
   "outputs": [],
   "source": [
    "EMOJI_MAP = {\n",
    "    'admiration': '👏',\n",
    "    'amusement': '😂',\n",
    "    'anger': '😡',\n",
    "    'annoyance': '😒',\n",
    "    'approval': '👍',\n",
    "    'caring': '🤗',\n",
    "    'confusion': '😕',\n",
    "    'curiosity': '🤔',\n",
    "    'desire': '😍',\n",
    "    'disappointment': '😞',\n",
    "    'disapproval': '👎',\n",
    "    'disgust': '🤮',\n",
    "    'embarrassment': '😳',\n",
    "    'excitement': '🤩',\n",
    "    'fear': '😨',\n",
    "    'gratitude': '🙏',\n",
    "    'grief': '😢',\n",
    "    'joy': '😃',\n",
    "    'love': '❤️',\n",
    "    'nervousness': '😬',\n",
    "    'optimism': '🤞',\n",
    "    'pride': '😌',\n",
    "    'realization': '💡',\n",
    "    'relief': '😅',\n",
    "    'remorse': '',\n",
    "    'sadness': '😞',\n",
    "    'surprise': '😲',\n",
    "    'neutral': '',\n",
    "}\n"
   ]
  },
  {
   "cell_type": "code",
   "execution_count": 27,
   "id": "aaf32c0a",
   "metadata": {},
   "outputs": [],
   "source": [
    "text_df[\"emoji\"] = text_df.emotion.map(lambda x: emotion_categories[x]).map(lambda x: EMOJI_MAP[x])"
   ]
  },
  {
   "cell_type": "code",
   "execution_count": 28,
   "id": "e6e9e364",
   "metadata": {},
   "outputs": [
    {
     "data": {
      "text/html": [
       "<div>\n",
       "<style scoped>\n",
       "    .dataframe tbody tr th:only-of-type {\n",
       "        vertical-align: middle;\n",
       "    }\n",
       "\n",
       "    .dataframe tbody tr th {\n",
       "        vertical-align: top;\n",
       "    }\n",
       "\n",
       "    .dataframe thead th {\n",
       "        text-align: right;\n",
       "    }\n",
       "</style>\n",
       "<table border=\"1\" class=\"dataframe\">\n",
       "  <thead>\n",
       "    <tr style=\"text-align: right;\">\n",
       "      <th></th>\n",
       "      <th>text</th>\n",
       "      <th>emotion</th>\n",
       "      <th>emoji</th>\n",
       "    </tr>\n",
       "  </thead>\n",
       "  <tbody>\n",
       "    <tr>\n",
       "      <th>0</th>\n",
       "      <td>Fast as [NAME] will carry me. Seriously uptown...</td>\n",
       "      <td>4</td>\n",
       "      <td>👍</td>\n",
       "    </tr>\n",
       "    <tr>\n",
       "      <th>1</th>\n",
       "      <td>You blew it. They played you like a fiddle.</td>\n",
       "      <td>27</td>\n",
       "      <td></td>\n",
       "    </tr>\n",
       "    <tr>\n",
       "      <th>2</th>\n",
       "      <td>TL;DR No more Superbowls for [NAME]. Get ready...</td>\n",
       "      <td>9</td>\n",
       "      <td>😞</td>\n",
       "    </tr>\n",
       "    <tr>\n",
       "      <th>3</th>\n",
       "      <td>So much time saved. Not.</td>\n",
       "      <td>7</td>\n",
       "      <td>🤔</td>\n",
       "    </tr>\n",
       "    <tr>\n",
       "      <th>4</th>\n",
       "      <td>Emotes have a ridiculous amount of effort put ...</td>\n",
       "      <td>27</td>\n",
       "      <td></td>\n",
       "    </tr>\n",
       "  </tbody>\n",
       "</table>\n",
       "</div>"
      ],
      "text/plain": [
       "                                                text  emotion emoji\n",
       "0  Fast as [NAME] will carry me. Seriously uptown...        4     👍\n",
       "1        You blew it. They played you like a fiddle.       27      \n",
       "2  TL;DR No more Superbowls for [NAME]. Get ready...        9     😞\n",
       "3                           So much time saved. Not.        7     🤔\n",
       "4  Emotes have a ridiculous amount of effort put ...       27      "
      ]
     },
     "execution_count": 28,
     "metadata": {},
     "output_type": "execute_result"
    }
   ],
   "source": [
    "text_df.head()"
   ]
  },
  {
   "cell_type": "code",
   "execution_count": 29,
   "id": "9db9c039",
   "metadata": {},
   "outputs": [],
   "source": [
    "class EmotionDataset(Dataset):\n",
    "    def __init__(self, data: pd.DataFrame, tokenizer: ElectraTokenizer):\n",
    "        super().__init__()\n",
    "        self.data = data\n",
    "        self.tokenizer = tokenizer\n",
    "    \n",
    "    def __len__(self):\n",
    "        return len(self.data)\n",
    "    \n",
    "    def __getitem__(self, idx):\n",
    "        row = self.data.iloc[idx]\n",
    "        encoding = tokenizer(\n",
    "            row.text,\n",
    "            max_length=64,\n",
    "            truncation=True,\n",
    "            padding=\"max_length\",\n",
    "            add_special_tokens=True,\n",
    "            return_token_type_ids=False,\n",
    "            return_attention_mask=True,\n",
    "            return_tensors=\"pt\"\n",
    "        )\n",
    "        return {\n",
    "            \"input_ids\": encoding[\"input_ids\"].flatten(),\n",
    "            \"attention_mask\": encoding[\"attention_mask\"].flatten(),\n",
    "            \"label\": torch.tensor(row.emotion)\n",
    "        }"
   ]
  },
  {
   "cell_type": "code",
   "execution_count": 30,
   "id": "dca1d751",
   "metadata": {},
   "outputs": [
    {
     "name": "stdout",
     "output_type": "stream",
     "text": [
      "True\n"
     ]
    }
   ],
   "source": [
    "ds = EmotionDataset(text_df, tokenizer)\n",
    "print(len(ds) == len(text_df))"
   ]
  },
  {
   "cell_type": "code",
   "execution_count": 31,
   "id": "69303229",
   "metadata": {},
   "outputs": [
    {
     "name": "stdout",
     "output_type": "stream",
     "text": [
      "tensor([ 101, 3435, 2004, 1031, 2171, 1033, 2097, 4287, 2033, 1012])\n",
      "tensor(4)\n"
     ]
    }
   ],
   "source": [
    "for item in ds:\n",
    "    print(item[\"input_ids\"][:10])\n",
    "    print(item[\"label\"])\n",
    "    break"
   ]
  },
  {
   "cell_type": "code",
   "execution_count": null,
   "id": "71394b3e",
   "metadata": {},
   "outputs": [],
   "source": []
  },
  {
   "cell_type": "code",
   "execution_count": 32,
   "id": "2893bc7e",
   "metadata": {},
   "outputs": [],
   "source": [
    "class EmotionDataModule(pl.LightningDataModule):\n",
    "    def __init__(self, data: pd.DataFrame, tokenizer: ElectraTokenizer, batch_size: int):\n",
    "        super().__init__()\n",
    "        self.data = data\n",
    "        self.tokenizer = tokenizer\n",
    "        self.batch_size = batch_size\n",
    "    \n",
    "    def setup(self, stage: Optional[str] = None):\n",
    "        self.train_df, test_df = train_test_split(self.data, test_size=0.2)\n",
    "        self.val_df, self.test_df = train_test_split(test_df, test_size=0.5)\n",
    "    \n",
    "    def train_dataloader(self):\n",
    "        return DataLoader(\n",
    "            dataset=EmotionDataset(self.train_df, self.tokenizer),\n",
    "            batch_size=self.batch_size,\n",
    "            num_workers=os.cpu_count(),\n",
    "            shuffle=True\n",
    "        )\n",
    "        \n",
    "    def val_dataloader(self):\n",
    "        return DataLoader(\n",
    "            dataset=EmotionDataset(self.val_df, self.tokenizer),\n",
    "            batch_size=self.batch_size,\n",
    "            num_workers=os.cpu_count(),\n",
    "            shuffle=False\n",
    "        )\n",
    "    \n",
    "    def test_dataloader(self):\n",
    "        return DataLoader(\n",
    "            dataset=EmotionDataset(self.test_df, self.tokenizer),\n",
    "            batch_size=self.batch_size,\n",
    "            num_workers=os.cpu_count(),\n",
    "            shuffle=False\n",
    "        )\n",
    "    "
   ]
  },
  {
   "cell_type": "code",
   "execution_count": 33,
   "id": "b379d886",
   "metadata": {},
   "outputs": [],
   "source": [
    "data_module = EmotionDataModule(text_df, tokenizer, batch_size=32)"
   ]
  },
  {
   "cell_type": "code",
   "execution_count": 34,
   "id": "a60d1a86",
   "metadata": {},
   "outputs": [
    {
     "name": "stdout",
     "output_type": "stream",
     "text": [
      "3\n",
      "torch.Size([32, 64]) torch.Size([32, 64]) torch.Size([32])\n"
     ]
    }
   ],
   "source": [
    "data_module.setup()\n",
    "for batch in data_module.train_dataloader():\n",
    "    print(len(batch))\n",
    "    \n",
    "    print(batch['input_ids'].shape, batch['attention_mask'].shape, batch['label'].shape)\n",
    "    break"
   ]
  },
  {
   "cell_type": "code",
   "execution_count": 35,
   "id": "45ae67f7",
   "metadata": {},
   "outputs": [
    {
     "data": {
      "application/vnd.jupyter.widget-view+json": {
       "model_id": "67713fcfb9cd490482674eab7c2a3bb4",
       "version_major": 2,
       "version_minor": 0
      },
      "text/plain": [
       "Downloading:   0%|          | 0.00/662 [00:00<?, ?B/s]"
      ]
     },
     "metadata": {},
     "output_type": "display_data"
    },
    {
     "data": {
      "application/vnd.jupyter.widget-view+json": {
       "model_id": "46fb1a403b5647c083b3e1816e6dba4b",
       "version_major": 2,
       "version_minor": 0
      },
      "text/plain": [
       "Downloading:   0%|          | 0.00/129M [00:00<?, ?B/s]"
      ]
     },
     "metadata": {},
     "output_type": "display_data"
    },
    {
     "data": {
      "application/vnd.jupyter.widget-view+json": {
       "model_id": "c0022ddd3ef6477bbdf7455b7d939c43",
       "version_major": 2,
       "version_minor": 0
      },
      "text/plain": [
       "Downloading:   0%|          | 0.00/27.0 [00:00<?, ?B/s]"
      ]
     },
     "metadata": {},
     "output_type": "display_data"
    },
    {
     "data": {
      "application/vnd.jupyter.widget-view+json": {
       "model_id": "3e513a6951a0496f996459dc99fa7200",
       "version_major": 2,
       "version_minor": 0
      },
      "text/plain": [
       "Downloading:   0%|          | 0.00/226k [00:00<?, ?B/s]"
      ]
     },
     "metadata": {},
     "output_type": "display_data"
    },
    {
     "data": {
      "application/vnd.jupyter.widget-view+json": {
       "model_id": "826d1ea681064e5f977a56e74bce4fd9",
       "version_major": 2,
       "version_minor": 0
      },
      "text/plain": [
       "Downloading:   0%|          | 0.00/455k [00:00<?, ?B/s]"
      ]
     },
     "metadata": {},
     "output_type": "display_data"
    }
   ],
   "source": [
    "fill_mask = pipeline(\n",
    "    \"fill-mask\",\n",
    "    model=\"google/electra-base-generator\",\n",
    "    tokenizer=\"google/electra-base-generator\",\n",
    "    top_k=3\n",
    ")"
   ]
  },
  {
   "cell_type": "code",
   "execution_count": 36,
   "id": "1450ca92",
   "metadata": {},
   "outputs": [
    {
     "name": "stdout",
     "output_type": "stream",
     "text": [
      "[\n",
      "    {\n",
      "        \"score\": 0.0404188446700573,\n",
      "        \"token\": 15743,\n",
      "        \"token_str\": \"naive\",\n",
      "        \"sequence\": \"i am not superstitious, but i am a little naive.\"\n",
      "    },\n",
      "    {\n",
      "        \"score\": 0.031200753524899483,\n",
      "        \"token\": 2367,\n",
      "        \"token_str\": \"different\",\n",
      "        \"sequence\": \"i am not superstitious, but i am a little different.\"\n",
      "    },\n",
      "    {\n",
      "        \"score\": 0.025371136143803596,\n",
      "        \"token\": 15818,\n",
      "        \"token_str\": \"arrogant\",\n",
      "        \"sequence\": \"i am not superstitious, but i am a little arrogant.\"\n",
      "    }\n",
      "]\n"
     ]
    }
   ],
   "source": [
    "text = f\"I am not superstitious, but I am a little [MASK].\"\n",
    "\n",
    "print(json.dumps(fill_mask(text), indent=4))"
   ]
  },
  {
   "cell_type": "code",
   "execution_count": 37,
   "id": "a739c4d4",
   "metadata": {},
   "outputs": [
    {
     "name": "stdout",
     "output_type": "stream",
     "text": [
      "[\n",
      "    {\n",
      "        \"score\": 0.534376859664917,\n",
      "        \"token\": 2293,\n",
      "        \"token_str\": \"love\",\n",
      "        \"sequence\": \"would i rather be feared or loved? easy. i want people to be afraid of how much they love me.\"\n",
      "    },\n",
      "    {\n",
      "        \"score\": 0.1514541357755661,\n",
      "        \"token\": 5223,\n",
      "        \"token_str\": \"hate\",\n",
      "        \"sequence\": \"would i rather be feared or loved? easy. i want people to be afraid of how much they hate me.\"\n",
      "    },\n",
      "    {\n",
      "        \"score\": 0.03171038255095482,\n",
      "        \"token\": 2342,\n",
      "        \"token_str\": \"need\",\n",
      "        \"sequence\": \"would i rather be feared or loved? easy. i want people to be afraid of how much they need me.\"\n",
      "    }\n",
      "]\n"
     ]
    }
   ],
   "source": [
    "text = f\"Would I rather be feared or loved? Easy. I want people to be afraid of how much they [MASK] me.\"\n",
    "\n",
    "print(json.dumps(fill_mask(text), indent=4))"
   ]
  },
  {
   "cell_type": "code",
   "execution_count": 38,
   "id": "5f9f9841",
   "metadata": {},
   "outputs": [
    {
     "data": {
      "application/vnd.jupyter.widget-view+json": {
       "model_id": "c0dcb42ebb5b4fb396e1126bc8c5fe14",
       "version_major": 2,
       "version_minor": 0
      },
      "text/plain": [
       "Downloading:   0%|          | 0.00/665 [00:00<?, ?B/s]"
      ]
     },
     "metadata": {},
     "output_type": "display_data"
    },
    {
     "data": {
      "application/vnd.jupyter.widget-view+json": {
       "model_id": "d6a4f20bad7c4cd39f87f59f1a2cd341",
       "version_major": 2,
       "version_minor": 0
      },
      "text/plain": [
       "Downloading:   0%|          | 0.00/51.7M [00:00<?, ?B/s]"
      ]
     },
     "metadata": {},
     "output_type": "display_data"
    }
   ],
   "source": [
    "from transformers import ElectraForPreTraining\n",
    "model = ElectraForPreTraining.from_pretrained(\"google/electra-small-discriminator\")"
   ]
  },
  {
   "cell_type": "code",
   "execution_count": 39,
   "id": "e22d1250",
   "metadata": {},
   "outputs": [],
   "source": [
    "text = f\"I am not superstitious, but I am a little yoga.\"\n",
    "\n",
    "encoding = tokenizer(text, return_tensors=\"pt\")\n",
    "outputs = model(**encoding)"
   ]
  },
  {
   "cell_type": "code",
   "execution_count": 40,
   "id": "6d443ef0",
   "metadata": {},
   "outputs": [
    {
     "data": {
      "text/plain": [
       "tensor([[-10.4003,  -7.1694,  -6.2349,  -3.8967,  -8.1406,  -8.0844,  -6.7816,\n",
       "          -4.8575,  -3.5403,  -4.6780,  -1.1182,  -2.4072,  -1.5506,  -0.0226,\n",
       "          -5.5492, -10.4025]], grad_fn=<SqueezeBackward1>)"
      ]
     },
     "execution_count": 40,
     "metadata": {},
     "output_type": "execute_result"
    }
   ],
   "source": [
    "outputs.logits"
   ]
  },
  {
   "cell_type": "code",
   "execution_count": 41,
   "id": "54414a12",
   "metadata": {},
   "outputs": [],
   "source": [
    "def show_detections(tokens, logits):\n",
    "    replaced_token_index = torch.argmax(logits, dim=-1).item()\n",
    "    special_tokens = set(tokenizer.special_tokens_map.values())\n",
    "    \n",
    "    for i, token in enumerate(tokens):\n",
    "        if token in special_tokens:\n",
    "            continue\n",
    "        if i == replaced_token_index:\n",
    "            print(f\"{token} -> replaced\")\n",
    "        else:\n",
    "            print(f\"{token} -> original\")"
   ]
  },
  {
   "cell_type": "code",
   "execution_count": 42,
   "id": "aa33f90f",
   "metadata": {},
   "outputs": [
    {
     "name": "stdout",
     "output_type": "stream",
     "text": [
      "i -> original\n",
      "am -> original\n",
      "not -> original\n",
      "super -> original\n",
      "##sti -> original\n",
      "##tious -> original\n",
      ", -> original\n",
      "but -> original\n",
      "i -> original\n",
      "am -> original\n",
      "a -> original\n",
      "little -> original\n",
      "yoga -> replaced\n",
      ". -> original\n"
     ]
    }
   ],
   "source": [
    "show_detections(encoding.tokens(), outputs.logits)"
   ]
  },
  {
   "cell_type": "code",
   "execution_count": 43,
   "id": "a8c866b8",
   "metadata": {},
   "outputs": [
    {
     "name": "stdout",
     "output_type": "stream",
     "text": [
      "the -> original\n",
      "quick -> original\n",
      "brown -> original\n",
      "egg -> replaced\n",
      "jumps -> original\n",
      "over -> original\n",
      "the -> original\n",
      "lazy -> original\n",
      "dog -> original\n"
     ]
    }
   ],
   "source": [
    "text = f\"The quick brown egg jumps over the lazy dog\"\n",
    "\n",
    "encoding = tokenizer(text, return_tensors=\"pt\")\n",
    "outputs = model(**encoding)\n",
    "\n",
    "show_detections(encoding.tokens(), outputs.logits)"
   ]
  },
  {
   "cell_type": "markdown",
   "id": "84fa661a",
   "metadata": {},
   "source": [
    "### Emotion Classifier"
   ]
  },
  {
   "cell_type": "code",
   "execution_count": 44,
   "id": "ea9739b6",
   "metadata": {},
   "outputs": [],
   "source": [
    "class ElectraClassifier(ElectraPreTrainedModel):\n",
    "    \n",
    "    def __init__(self, config):\n",
    "        super().__init__(config)\n",
    "        self.n_classes = config.num_labels\n",
    "        self.config = config\n",
    "        self.electra = ElectraModel(config)\n",
    "        self.classifier = ElectraClassificationHead(config)\n",
    "        \n",
    "        self.init_weights()\n",
    "        \n",
    "    def forward(\n",
    "        self,\n",
    "        input_ids=None,\n",
    "        attention_mask=None\n",
    "    ):\n",
    "        discriminator_hidden_states =  self.electra(input_ids, attention_mask)\n",
    "        sequence_output = discriminator_hidden_states[0]\n",
    "        logits = self.classifier(sequence_output)\n",
    "        return logits"
   ]
  },
  {
   "cell_type": "code",
   "execution_count": 45,
   "id": "f3ca20f1",
   "metadata": {},
   "outputs": [],
   "source": [
    "class EmotionClassifier(pl.LightningModule):\n",
    "    def __init__(self, n_classes, learning_rate: Optional[float] = None):\n",
    "        super().__init__()\n",
    "        self.n_classes = n_classes\n",
    "        self.classifier = ElectraClassifier.from_pretrained(\n",
    "            \"google/electra-small-discriminator\",\n",
    "            num_labels=self.n_classes\n",
    "        )\n",
    "        self.criterion = nn.CrossEntropyLoss()\n",
    "        self.learning_rate = learning_rate\n",
    "    \n",
    "    def forward(self, input_ids, attention_mask):\n",
    "        return self.classifier(input_ids, attention_mask)\n",
    "    \n",
    "    def run_step(self, batch, stage):\n",
    "        input_ids = batch['input_ids']\n",
    "        attention_mask = batch['attention_mask']\n",
    "        labels = batch['label'].long()\n",
    "        logits = self(input_ids, attention_mask)\n",
    "        \n",
    "        loss = self.criterion(logits, labels)\n",
    "        self.log(f\"{stage}_loss\", loss, on_step=True, on_epoch=True, prog_bar=True)\n",
    "        return loss\n",
    "        \n",
    "    def training_step(self, batch, batch_idx):\n",
    "        return self.run_step(batch, \"train\")\n",
    "        \n",
    "    def validation_step(self, batch, batch_idx):\n",
    "        return self.run_step(batch, \"val\")\n",
    "    \n",
    "    def test_step(self, batch, batch_idx):\n",
    "        return self.run_step(batch, \"test\")\n",
    "    \n",
    "    def configure_optimizers(self):\n",
    "        return AdamW(self.parameters(), lr=self.learning_rate)"
   ]
  },
  {
   "cell_type": "code",
   "execution_count": 46,
   "id": "63205e12",
   "metadata": {},
   "outputs": [
    {
     "data": {
      "text/plain": [
       "Index(['admiration', 'amusement', 'anger', 'annoyance', 'approval', 'caring',\n",
       "       'confusion', 'curiosity', 'desire', 'disappointment', 'disapproval',\n",
       "       'disgust', 'embarrassment', 'excitement', 'fear', 'gratitude', 'grief',\n",
       "       'joy', 'love', 'nervousness', 'optimism', 'pride', 'realization',\n",
       "       'relief', 'remorse', 'sadness', 'surprise', 'neutral'],\n",
       "      dtype='object')"
      ]
     },
     "execution_count": 46,
     "metadata": {},
     "output_type": "execute_result"
    }
   ],
   "source": [
    "emotion_categories"
   ]
  },
  {
   "cell_type": "code",
   "execution_count": 47,
   "id": "bfadfb36",
   "metadata": {},
   "outputs": [
    {
     "name": "stderr",
     "output_type": "stream",
     "text": [
      "Some weights of the model checkpoint at google/electra-small-discriminator were not used when initializing ElectraClassifier: ['discriminator_predictions.dense.weight', 'discriminator_predictions.dense_prediction.weight', 'discriminator_predictions.dense.bias', 'discriminator_predictions.dense_prediction.bias']\n",
      "- This IS expected if you are initializing ElectraClassifier from the checkpoint of a model trained on another task or with another architecture (e.g. initializing a BertForSequenceClassification model from a BertForPreTraining model).\n",
      "- This IS NOT expected if you are initializing ElectraClassifier from the checkpoint of a model that you expect to be exactly identical (initializing a BertForSequenceClassification model from a BertForSequenceClassification model).\n",
      "Some weights of ElectraClassifier were not initialized from the model checkpoint at google/electra-small-discriminator and are newly initialized: ['classifier.out_proj.weight', 'classifier.dense.bias', 'classifier.out_proj.bias', 'classifier.dense.weight']\n",
      "You should probably TRAIN this model on a down-stream task to be able to use it for predictions and inference.\n"
     ]
    }
   ],
   "source": [
    "MAX_LEARNING_RATE = 1e-2\n",
    "BATCH_SIZE = 512\n",
    "TRAINING_STEPS = 650\n",
    "\n",
    "data_module = EmotionDataModule(\n",
    "    text_df,\n",
    "    tokenizer,\n",
    "    batch_size=BATCH_SIZE\n",
    ")\n",
    "\n",
    "model = EmotionClassifier(\n",
    "    n_classes=len(emotion_categories),\n",
    "    learning_rate=MAX_LEARNING_RATE\n",
    ")"
   ]
  },
  {
   "cell_type": "code",
   "execution_count": 48,
   "id": "8799e22e",
   "metadata": {},
   "outputs": [
    {
     "name": "stderr",
     "output_type": "stream",
     "text": [
      "/opt/conda/lib/python3.8/site-packages/pytorch_lightning/loops/utilities.py:91: PossibleUserWarning: `max_epochs` was not set. Setting it to 1000 epochs. To train without an epoch limit, set `max_epochs=-1`.\n",
      "  rank_zero_warn(\n",
      "GPU available: True, used: True\n",
      "TPU available: False, using: 0 TPU cores\n",
      "IPU available: False, using: 0 IPUs\n",
      "HPU available: False, using: 0 HPUs\n"
     ]
    }
   ],
   "source": [
    "trainer = pl.Trainer(gpus=1)"
   ]
  },
  {
   "cell_type": "code",
   "execution_count": 49,
   "id": "fa092ccf",
   "metadata": {},
   "outputs": [
    {
     "name": "stderr",
     "output_type": "stream",
     "text": [
      "LOCAL_RANK: 0 - CUDA_VISIBLE_DEVICES: [0]\n",
      "/opt/conda/lib/python3.8/site-packages/transformers/optimization.py:306: FutureWarning: This implementation of AdamW is deprecated and will be removed in a future version. Use the PyTorch implementation torch.optim.AdamW instead, or set `no_deprecation_warning=True` to disable this warning\n",
      "  warnings.warn(\n"
     ]
    },
    {
     "data": {
      "application/vnd.jupyter.widget-view+json": {
       "model_id": "30c592b0d83d4e0989bf972a8d2677da",
       "version_major": 2,
       "version_minor": 0
      },
      "text/plain": [
       "Finding best initial lr:   0%|          | 0/100 [00:00<?, ?it/s]"
      ]
     },
     "metadata": {},
     "output_type": "display_data"
    },
    {
     "name": "stderr",
     "output_type": "stream",
     "text": [
      "Restoring states from the checkpoint path at /notebooks/pytorch-mini-study/go-emotions/.lr_find_ba5e017c-34cf-40e7-b576-1361ead43e3e.ckpt\n"
     ]
    }
   ],
   "source": [
    "lr_finder = trainer.tuner.lr_find(model, data_module, max_lr=MAX_LEARNING_RATE)"
   ]
  },
  {
   "cell_type": "code",
   "execution_count": 50,
   "id": "1bfd5e46",
   "metadata": {},
   "outputs": [
    {
     "data": {
      "image/png": "[encoded data removed]",
      "text/plain": [
       "<Figure size 864x576 with 1 Axes>"
      ]
     },
     "metadata": {
      "image/png": {
       "height": 491,
       "width": 732
      }
     },
     "output_type": "display_data"
    }
   ],
   "source": [
    "fig = lr_finder.plot(suggest=True)\n",
    "fig.show()"
   ]
  },
  {
   "cell_type": "code",
   "execution_count": 51,
   "id": "67503fda",
   "metadata": {},
   "outputs": [
    {
     "data": {
      "text/plain": [
       "0.00047863009232263854"
      ]
     },
     "execution_count": 51,
     "metadata": {},
     "output_type": "execute_result"
    }
   ],
   "source": [
    "new_lr = lr_finder.suggestion()\n",
    "lr_finder.suggestion()"
   ]
  },
  {
   "cell_type": "code",
   "execution_count": 52,
   "id": "617f0b1c",
   "metadata": {},
   "outputs": [],
   "source": [
    "model.learning_rate = new_lr"
   ]
  },
  {
   "cell_type": "code",
   "execution_count": 53,
   "id": "4f417aad",
   "metadata": {},
   "outputs": [],
   "source": [
    "%load_ext tensorboard"
   ]
  },
  {
   "cell_type": "code",
   "execution_count": 54,
   "id": "20b3266b",
   "metadata": {},
   "outputs": [],
   "source": [
    "experiments_dir = \"experiments\"\n",
    "\n",
    "model_checkpoint = ModelCheckpoint(\n",
    "    filename=\"{epoch}-{step}-{val_loss:.2f}\",\n",
    "    save_last=True,\n",
    "    save_top_k=3,\n",
    "    monitor=\"val_loss_epoch\",\n",
    "    mode=\"min\"\n",
    ")\n",
    "\n",
    "logger = TensorBoardLogger(save_dir=experiments_dir, name=\"emotion_classifier\")"
   ]
  },
  {
   "cell_type": "code",
   "execution_count": 55,
   "id": "2410acb5",
   "metadata": {},
   "outputs": [
    {
     "data": {
      "text/html": [
       "\n",
       "      <iframe id=\"tensorboard-frame-1c80317fa3b1799d\" width=\"100%\" height=\"800\" frameborder=\"0\">\n",
       "      </iframe>\n",
       "      <script>\n",
       "        (function() {\n",
       "          const frame = document.getElementById(\"tensorboard-frame-1c80317fa3b1799d\");\n",
       "          const url = new URL(\"/\", window.location);\n",
       "          const port = 6006;\n",
       "          if (port) {\n",
       "            url.port = port;\n",
       "          }\n",
       "          frame.src = url;\n",
       "        })();\n",
       "      </script>\n",
       "    "
      ],
      "text/plain": [
       "<IPython.core.display.HTML object>"
      ]
     },
     "metadata": {},
     "output_type": "display_data"
    }
   ],
   "source": [
    "%tensorboard --logdir experiments"
   ]
  },
  {
   "cell_type": "code",
   "execution_count": 56,
   "id": "4a10d19c",
   "metadata": {},
   "outputs": [
    {
     "name": "stderr",
     "output_type": "stream",
     "text": [
      "Using 16bit native Automatic Mixed Precision (AMP)\n",
      "GPU available: True, used: True\n",
      "TPU available: False, using: 0 TPU cores\n",
      "IPU available: False, using: 0 IPUs\n",
      "HPU available: False, using: 0 HPUs\n"
     ]
    }
   ],
   "source": [
    "trainer = pl.Trainer(\n",
    "    default_root_dir=experiments_dir,\n",
    "    gpus=1,\n",
    "    max_steps=TRAINING_STEPS,\n",
    "    precision=16,\n",
    "    val_check_interval=40,\n",
    "    callbacks=[\n",
    "        model_checkpoint\n",
    "    ],\n",
    "    logger=logger\n",
    ")"
   ]
  },
  {
   "cell_type": "code",
   "execution_count": 57,
   "id": "87c414bf",
   "metadata": {},
   "outputs": [
    {
     "name": "stderr",
     "output_type": "stream",
     "text": [
      "Missing logger folder: experiments/emotion_classifier\n",
      "LOCAL_RANK: 0 - CUDA_VISIBLE_DEVICES: [0]\n",
      "/opt/conda/lib/python3.8/site-packages/transformers/optimization.py:306: FutureWarning: This implementation of AdamW is deprecated and will be removed in a future version. Use the PyTorch implementation torch.optim.AdamW instead, or set `no_deprecation_warning=True` to disable this warning\n",
      "  warnings.warn(\n",
      "\n",
      "  | Name       | Type              | Params\n",
      "-------------------------------------------------\n",
      "0 | classifier | ElectraClassifier | 13.6 M\n",
      "1 | criterion  | CrossEntropyLoss  | 0     \n",
      "-------------------------------------------------\n",
      "13.6 M    Trainable params\n",
      "0         Non-trainable params\n",
      "13.6 M    Total params\n",
      "27.112    Total estimated model params size (MB)\n"
     ]
    },
    {
     "data": {
      "application/vnd.jupyter.widget-view+json": {
       "model_id": "ad178ff7916b461daec5b891606afda3",
       "version_major": 2,
       "version_minor": 0
      },
      "text/plain": [
       "Sanity Checking: 0it [00:00, ?it/s]"
      ]
     },
     "metadata": {},
     "output_type": "display_data"
    },
    {
     "data": {
      "application/vnd.jupyter.widget-view+json": {
       "model_id": "1b7a28dfe58c4f3f99c4ffc6c0dd5cae",
       "version_major": 2,
       "version_minor": 0
      },
      "text/plain": [
       "Training: 0it [00:00, ?it/s]"
      ]
     },
     "metadata": {},
     "output_type": "display_data"
    },
    {
     "data": {
      "application/vnd.jupyter.widget-view+json": {
       "model_id": "0c47eb42cf6a4875b2c288228b9d9070",
       "version_major": 2,
       "version_minor": 0
      },
      "text/plain": [
       "Validation: 0it [00:00, ?it/s]"
      ]
     },
     "metadata": {},
     "output_type": "display_data"
    },
    {
     "data": {
      "application/vnd.jupyter.widget-view+json": {
       "model_id": "3a42a492e9f7480080e3328dd9cc015f",
       "version_major": 2,
       "version_minor": 0
      },
      "text/plain": [
       "Validation: 0it [00:00, ?it/s]"
      ]
     },
     "metadata": {},
     "output_type": "display_data"
    },
    {
     "data": {
      "application/vnd.jupyter.widget-view+json": {
       "model_id": "74a9f9a6454e47a0a42628678fa85c28",
       "version_major": 2,
       "version_minor": 0
      },
      "text/plain": [
       "Validation: 0it [00:00, ?it/s]"
      ]
     },
     "metadata": {},
     "output_type": "display_data"
    },
    {
     "data": {
      "application/vnd.jupyter.widget-view+json": {
       "model_id": "aa122e3a432a490a86ce452934566799",
       "version_major": 2,
       "version_minor": 0
      },
      "text/plain": [
       "Validation: 0it [00:00, ?it/s]"
      ]
     },
     "metadata": {},
     "output_type": "display_data"
    },
    {
     "data": {
      "application/vnd.jupyter.widget-view+json": {
       "model_id": "442f08c89210407ea6358372cf6dd96d",
       "version_major": 2,
       "version_minor": 0
      },
      "text/plain": [
       "Validation: 0it [00:00, ?it/s]"
      ]
     },
     "metadata": {},
     "output_type": "display_data"
    },
    {
     "data": {
      "application/vnd.jupyter.widget-view+json": {
       "model_id": "b3adac86ed24487fb66a88e28f0b3392",
       "version_major": 2,
       "version_minor": 0
      },
      "text/plain": [
       "Validation: 0it [00:00, ?it/s]"
      ]
     },
     "metadata": {},
     "output_type": "display_data"
    },
    {
     "data": {
      "application/vnd.jupyter.widget-view+json": {
       "model_id": "fcf571cc368744b497b62c9e03a26264",
       "version_major": 2,
       "version_minor": 0
      },
      "text/plain": [
       "Validation: 0it [00:00, ?it/s]"
      ]
     },
     "metadata": {},
     "output_type": "display_data"
    },
    {
     "data": {
      "application/vnd.jupyter.widget-view+json": {
       "model_id": "0ab78150670a46e48074ce413d37af0d",
       "version_major": 2,
       "version_minor": 0
      },
      "text/plain": [
       "Validation: 0it [00:00, ?it/s]"
      ]
     },
     "metadata": {},
     "output_type": "display_data"
    },
    {
     "data": {
      "application/vnd.jupyter.widget-view+json": {
       "model_id": "8b768a581f7a41709f6d480632755ff1",
       "version_major": 2,
       "version_minor": 0
      },
      "text/plain": [
       "Validation: 0it [00:00, ?it/s]"
      ]
     },
     "metadata": {},
     "output_type": "display_data"
    },
    {
     "data": {
      "application/vnd.jupyter.widget-view+json": {
       "model_id": "06acdb7be34b44bca3219cf1eea3e111",
       "version_major": 2,
       "version_minor": 0
      },
      "text/plain": [
       "Validation: 0it [00:00, ?it/s]"
      ]
     },
     "metadata": {},
     "output_type": "display_data"
    },
    {
     "data": {
      "application/vnd.jupyter.widget-view+json": {
       "model_id": "fd75e29eac6f432da474614dbf5f2884",
       "version_major": 2,
       "version_minor": 0
      },
      "text/plain": [
       "Validation: 0it [00:00, ?it/s]"
      ]
     },
     "metadata": {},
     "output_type": "display_data"
    },
    {
     "data": {
      "application/vnd.jupyter.widget-view+json": {
       "model_id": "85983c7efd414fa79bf086305c31f188",
       "version_major": 2,
       "version_minor": 0
      },
      "text/plain": [
       "Validation: 0it [00:00, ?it/s]"
      ]
     },
     "metadata": {},
     "output_type": "display_data"
    },
    {
     "data": {
      "application/vnd.jupyter.widget-view+json": {
       "model_id": "cdd2338dbdcf4a7d99926f8dba4e1bfc",
       "version_major": 2,
       "version_minor": 0
      },
      "text/plain": [
       "Validation: 0it [00:00, ?it/s]"
      ]
     },
     "metadata": {},
     "output_type": "display_data"
    },
    {
     "data": {
      "application/vnd.jupyter.widget-view+json": {
       "model_id": "2bf829eb37ab45d08e2b848678850775",
       "version_major": 2,
       "version_minor": 0
      },
      "text/plain": [
       "Validation: 0it [00:00, ?it/s]"
      ]
     },
     "metadata": {},
     "output_type": "display_data"
    }
   ],
   "source": [
    "trainer.fit(model, data_module)"
   ]
  },
  {
   "cell_type": "code",
   "execution_count": 58,
   "id": "71fa1fd3",
   "metadata": {},
   "outputs": [
    {
     "name": "stderr",
     "output_type": "stream",
     "text": [
      "/opt/conda/lib/python3.8/site-packages/pytorch_lightning/trainer/trainer.py:1446: UserWarning: `.test(ckpt_path=None)` was called without a model. The best model of the previous `fit` call will be used. You can pass `test(ckpt_path='best')` to use and best model checkpoint and avoid this warning or `ckpt_path=trainer.checkpoint_callback.last_model_path` to use the last model.\n",
      "  rank_zero_warn(\n",
      "Restoring states from the checkpoint path at experiments/emotion_classifier/version_0/checkpoints/epoch=3-step=353-val_loss=1.66.ckpt\n",
      "LOCAL_RANK: 0 - CUDA_VISIBLE_DEVICES: [0]\n",
      "Loaded model weights from checkpoint at experiments/emotion_classifier/version_0/checkpoints/epoch=3-step=353-val_loss=1.66.ckpt\n"
     ]
    },
    {
     "data": {
      "application/vnd.jupyter.widget-view+json": {
       "model_id": "d7293a2726e24b74956e98aa945d7b65",
       "version_major": 2,
       "version_minor": 0
      },
      "text/plain": [
       "Testing: 0it [00:00, ?it/s]"
      ]
     },
     "metadata": {},
     "output_type": "display_data"
    },
    {
     "data": {
      "text/html": [
       "<pre style=\"white-space:pre;overflow-x:auto;line-height:normal;font-family:Menlo,'DejaVu Sans Mono',consolas,'Courier New',monospace\">┏━━━━━━━━━━━━━━━━━━━━━━━━━━━┳━━━━━━━━━━━━━━━━━━━━━━━━━━━┓\n",
       "┃<span style=\"font-weight: bold\">        Test metric        </span>┃<span style=\"font-weight: bold\">       DataLoader 0        </span>┃\n",
       "┡━━━━━━━━━━━━━━━━━━━━━━━━━━━╇━━━━━━━━━━━━━━━━━━━━━━━━━━━┩\n",
       "│<span style=\"color: #008080; text-decoration-color: #008080\">      test_loss_epoch      </span>│<span style=\"color: #800080; text-decoration-color: #800080\">    1.3799360990524292     </span>│\n",
       "└───────────────────────────┴───────────────────────────┘\n",
       "</pre>\n"
      ],
      "text/plain": [
       "┏━━━━━━━━━━━━━━━━━━━━━━━━━━━┳━━━━━━━━━━━━━━━━━━━━━━━━━━━┓\n",
       "┃\u001b[1m \u001b[0m\u001b[1m       Test metric       \u001b[0m\u001b[1m \u001b[0m┃\u001b[1m \u001b[0m\u001b[1m      DataLoader 0       \u001b[0m\u001b[1m \u001b[0m┃\n",
       "┡━━━━━━━━━━━━━━━━━━━━━━━━━━━╇━━━━━━━━━━━━━━━━━━━━━━━━━━━┩\n",
       "│\u001b[36m \u001b[0m\u001b[36m     test_loss_epoch     \u001b[0m\u001b[36m \u001b[0m│\u001b[35m \u001b[0m\u001b[35m   1.3799360990524292    \u001b[0m\u001b[35m \u001b[0m│\n",
       "└───────────────────────────┴───────────────────────────┘\n"
      ]
     },
     "metadata": {},
     "output_type": "display_data"
    },
    {
     "data": {
      "text/plain": [
       "[{'test_loss_epoch': 1.3799360990524292}]"
      ]
     },
     "execution_count": 58,
     "metadata": {},
     "output_type": "execute_result"
    }
   ],
   "source": [
    "trainer.test(datamodule=data_module)"
   ]
  },
  {
   "cell_type": "code",
   "execution_count": 59,
   "id": "fbbcf507",
   "metadata": {},
   "outputs": [],
   "source": [
    "model.classifier.save_pretrained(\"emotion_classifier\")"
   ]
  },
  {
   "cell_type": "code",
   "execution_count": 61,
   "id": "5d8aa481",
   "metadata": {},
   "outputs": [
    {
     "name": "stdout",
     "output_type": "stream",
     "text": [
      "{\n",
      "  \"_name_or_path\": \"google/electra-small-discriminator\",\n",
      "  \"architectures\": [\n",
      "    \"ElectraClassifier\"\n",
      "  ],\n",
      "  \"attention_probs_dropout_prob\": 0.1,\n",
      "  \"classifier_dropout\": null,\n",
      "  \"embedding_size\": 128,\n",
      "  \"hidden_act\": \"gelu\",\n",
      "  \"hidden_dropout_prob\": 0.1,\n"
     ]
    }
   ],
   "source": [
    "!head emotion_classifier/config.json"
   ]
  },
  {
   "cell_type": "code",
   "execution_count": null,
   "id": "96131135",
   "metadata": {},
   "outputs": [],
   "source": []
  }
 ],
 "metadata": {
  "kernelspec": {
   "display_name": "Python 3 (ipykernel)",
   "language": "python",
   "name": "python3"
  },
  "language_info": {
   "codemirror_mode": {
    "name": "ipython",
    "version": 3
   },
   "file_extension": ".py",
   "mimetype": "text/x-python",
   "name": "python",
   "nbconvert_exporter": "python",
   "pygments_lexer": "ipython3",
   "version": "3.8.12"
  }
 },
 "nbformat": 4,
 "nbformat_minor": 5
}
