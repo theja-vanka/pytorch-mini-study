{
 "cells": [
  {
   "cell_type": "code",
   "execution_count": 1,
   "id": "6c942a06",
   "metadata": {},
   "outputs": [],
   "source": [
    "import torch\n",
    "import torch.nn as nn\n",
    "from torch.nn import functional as F\n",
    "from torch import optim\n",
    "from torch.utils.data import Dataset, DataLoader\n",
    "\n",
    "from torchvision import transforms, models, datasets\n",
    "import pytorch_lightning as pl"
   ]
  },
  {
   "cell_type": "code",
   "execution_count": 2,
   "id": "cb6988c9",
   "metadata": {},
   "outputs": [],
   "source": [
    "import matplotlib.pyplot as plt\n",
    "import matplotlib.ticker as mticker\n",
    "from PIL import Image\n",
    "%matplotlib inline\n",
    "import cv2\n",
    "from glob import glob\n",
    "import numpy as np\n",
    "import pandas as pd"
   ]
  },
  {
   "cell_type": "code",
   "execution_count": 3,
   "id": "37033382",
   "metadata": {},
   "outputs": [
    {
     "name": "stderr",
     "output_type": "stream",
     "text": [
      "Global seed set to 42\n"
     ]
    },
    {
     "data": {
      "text/plain": [
       "42"
      ]
     },
     "execution_count": 3,
     "metadata": {},
     "output_type": "execute_result"
    }
   ],
   "source": [
    "pl.seed_everything(42)"
   ]
  },
  {
   "cell_type": "code",
   "execution_count": 4,
   "id": "7bea864e",
   "metadata": {},
   "outputs": [],
   "source": [
    "train_data_dir = './data/training_set/training_set'\n",
    "test_data_dir = './data/test_set/test_set'"
   ]
  },
  {
   "cell_type": "code",
   "execution_count": 5,
   "id": "5379818b",
   "metadata": {},
   "outputs": [],
   "source": [
    "class CatsDogs(Dataset):\n",
    "    def __init__(self, folder):\n",
    "        cats = glob(folder+'/cats/*.jpg')\n",
    "        dogs = glob(folder+'/dogs/*.jpg')\n",
    "        self.fpaths = cats[:500] + dogs[0:500]\n",
    "        self.normalize = transforms.Normalize(\n",
    "                            mean=[0.485, 0.456, 0.406],\n",
    "                            std=[0.229, 0.224, 0.225]\n",
    "                        )\n",
    "        self.targets = [fpath.split('/')[-1].startswith('dog') for fpath in self.fpaths]\n",
    "    \n",
    "    def __len__(self): return len(self.fpaths)\n",
    "\n",
    "    def __getitem__(self, ix):\n",
    "        f = self.fpaths[ix]\n",
    "        target = self.targets[ix]\n",
    "        im = (cv2.imread(f)[:, :, ::-1])\n",
    "        im = cv2.resize(im, (244, 244))\n",
    "        im = torch.tensor(im/255)\n",
    "        im = im.permute(2, 0, 1)\n",
    "        im= self.normalize(im)\n",
    "        return im.float(), torch.tensor([target]).float()"
   ]
  },
  {
   "cell_type": "code",
   "execution_count": 6,
   "id": "34cf348c",
   "metadata": {},
   "outputs": [],
   "source": [
    "class CatsVDogs(pl.LightningModule):\n",
    "    def __init__(self):\n",
    "        super().__init__()\n",
    "        self.model = models.vgg16(pretrained=True)\n",
    "        for param in self.model.parameters():\n",
    "            param.requires_grad = False\n",
    "        self.model.avgpool = nn.AdaptiveAvgPool2d(output_size=(1,1))\n",
    "        self.model.classifier = nn.Sequential(\n",
    "                            nn.Flatten(),\n",
    "                            nn.Linear(512, 128),\n",
    "                            nn.ReLU(),\n",
    "                            nn.Dropout(0.2),\n",
    "                            nn.Linear(128, 1),\n",
    "                            nn.Sigmoid()\n",
    "                        )\n",
    "        self.metric = nn.BCELoss()\n",
    "        \n",
    "    def forward(self, x):\n",
    "        x = self.model(x)\n",
    "        return x\n",
    "    \n",
    "    def configure_optimizers(self):\n",
    "        optimizer = torch.optim.Adam(self.parameters(), lr=1e-3)\n",
    "        return optimizer\n",
    "    \n",
    "    def train_dataloader(self):\n",
    "        train = CatsDogs(train_data_dir)\n",
    "        return DataLoader(train, batch_size=32, shuffle=True, drop_last=True)\n",
    "    \n",
    "    def test_dataloader(self):\n",
    "        val = CatsDogs(test_data_dir)\n",
    "        return DataLoader(val, batch_size=32, shuffle=True, drop_last=True)\n",
    "    \n",
    "    def training_step(self, batch, batch_idx):\n",
    "        x, y = batch\n",
    "        y_hat = self(x)\n",
    "        loss = self.metric(y_hat, y)\n",
    "        self.log('train_loss', loss)\n",
    "        return loss\n",
    "    \n",
    "    def test_step(self, batch, batch_idx):\n",
    "        x, y = batch\n",
    "        y_hat = self(x)\n",
    "        loss = self.metric(y_hat, y)\n",
    "        self.log('test_loss', loss)\n",
    "        return loss"
   ]
  },
  {
   "cell_type": "code",
   "execution_count": 7,
   "id": "931e0550",
   "metadata": {},
   "outputs": [
    {
     "name": "stderr",
     "output_type": "stream",
     "text": [
      "GPU available: False, used: False\n",
      "TPU available: False, using: 0 TPU cores\n",
      "IPU available: False, using: 0 IPUs\n",
      "\n",
      "  | Name   | Type    | Params\n",
      "-----------------------------------\n",
      "0 | model  | VGG     | 14.8 M\n",
      "1 | metric | BCELoss | 0     \n",
      "-----------------------------------\n",
      "65.8 K    Trainable params\n",
      "14.7 M    Non-trainable params\n",
      "14.8 M    Total params\n",
      "59.122    Total estimated model params size (MB)\n"
     ]
    },
    {
     "name": "stdout",
     "output_type": "stream",
     "text": [
      "Epoch 4: 100%|████████████████████████████████████████████████████| 31/31 [15:30<00:00, 30.03s/it, loss=0.0265, v_num=2]\n"
     ]
    }
   ],
   "source": [
    "model = CatsVDogs()\n",
    "trainer = pl.Trainer(max_epochs=5)\n",
    "trainer.fit(model)"
   ]
  },
  {
   "cell_type": "code",
   "execution_count": null,
   "id": "d26d12c1",
   "metadata": {},
   "outputs": [],
   "source": []
  }
 ],
 "metadata": {
  "kernelspec": {
   "display_name": "Python 3.9.7 64-bit ('kaggle': conda)",
   "language": "python",
   "name": "python397jvsc74a57bd053bf65667dfde6d04aec4d67d92b456674c859d6a20379fb5268a05a425b4068"
  },
  "language_info": {
   "codemirror_mode": {
    "name": "ipython",
    "version": 3
   },
   "file_extension": ".py",
   "mimetype": "text/x-python",
   "name": "python",
   "nbconvert_exporter": "python",
   "pygments_lexer": "ipython3",
   "version": "3.9.7"
  }
 },
 "nbformat": 4,
 "nbformat_minor": 5
}
